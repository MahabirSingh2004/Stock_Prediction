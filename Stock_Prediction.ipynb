{
 "cells": [
  {
   "cell_type": "code",
   "execution_count": 15,
   "id": "f0cabb42-461d-4fbf-892d-1483c141a4f4",
   "metadata": {},
   "outputs": [],
   "source": [
    "import numpy as np\n",
    "import pandas as pd\n",
    "import matplotlib.pyplot as plt\n",
    "import tensorflow as tf\n",
    "from sklearn.preprocessing import MinMaxScaler"
   ]
  },
  {
   "cell_type": "code",
   "execution_count": 9,
   "id": "ed9c436f-4a3f-4522-b360-54f97afbba2d",
   "metadata": {},
   "outputs": [],
   "source": [
    "##Reading the dataSet\n",
    "tg = pd.read_csv(\"NSE-TATAGLOBAL11.csv\")"
   ]
  },
  {
   "cell_type": "code",
   "execution_count": 11,
   "id": "dd766c44-9785-49e7-8f3a-1ebf6f6e19a9",
   "metadata": {},
   "outputs": [
    {
     "data": {
      "text/html": [
       "<div>\n",
       "<style scoped>\n",
       "    .dataframe tbody tr th:only-of-type {\n",
       "        vertical-align: middle;\n",
       "    }\n",
       "\n",
       "    .dataframe tbody tr th {\n",
       "        vertical-align: top;\n",
       "    }\n",
       "\n",
       "    .dataframe thead th {\n",
       "        text-align: right;\n",
       "    }\n",
       "</style>\n",
       "<table border=\"1\" class=\"dataframe\">\n",
       "  <thead>\n",
       "    <tr style=\"text-align: right;\">\n",
       "      <th></th>\n",
       "      <th>Date</th>\n",
       "      <th>Open</th>\n",
       "      <th>High</th>\n",
       "      <th>Low</th>\n",
       "      <th>Last</th>\n",
       "      <th>Close</th>\n",
       "      <th>Total Trade Quantity</th>\n",
       "      <th>Turnover (Lacs)</th>\n",
       "    </tr>\n",
       "  </thead>\n",
       "  <tbody>\n",
       "    <tr>\n",
       "      <th>0</th>\n",
       "      <td>2018-10-08</td>\n",
       "      <td>208.00</td>\n",
       "      <td>222.25</td>\n",
       "      <td>206.85</td>\n",
       "      <td>216.00</td>\n",
       "      <td>215.15</td>\n",
       "      <td>4642146.0</td>\n",
       "      <td>10062.83</td>\n",
       "    </tr>\n",
       "    <tr>\n",
       "      <th>1</th>\n",
       "      <td>2018-10-05</td>\n",
       "      <td>217.00</td>\n",
       "      <td>218.60</td>\n",
       "      <td>205.90</td>\n",
       "      <td>210.25</td>\n",
       "      <td>209.20</td>\n",
       "      <td>3519515.0</td>\n",
       "      <td>7407.06</td>\n",
       "    </tr>\n",
       "    <tr>\n",
       "      <th>2</th>\n",
       "      <td>2018-10-04</td>\n",
       "      <td>223.50</td>\n",
       "      <td>227.80</td>\n",
       "      <td>216.15</td>\n",
       "      <td>217.25</td>\n",
       "      <td>218.20</td>\n",
       "      <td>1728786.0</td>\n",
       "      <td>3815.79</td>\n",
       "    </tr>\n",
       "    <tr>\n",
       "      <th>3</th>\n",
       "      <td>2018-10-03</td>\n",
       "      <td>230.00</td>\n",
       "      <td>237.50</td>\n",
       "      <td>225.75</td>\n",
       "      <td>226.45</td>\n",
       "      <td>227.60</td>\n",
       "      <td>1708590.0</td>\n",
       "      <td>3960.27</td>\n",
       "    </tr>\n",
       "    <tr>\n",
       "      <th>4</th>\n",
       "      <td>2018-10-01</td>\n",
       "      <td>234.55</td>\n",
       "      <td>234.60</td>\n",
       "      <td>221.05</td>\n",
       "      <td>230.30</td>\n",
       "      <td>230.90</td>\n",
       "      <td>1534749.0</td>\n",
       "      <td>3486.05</td>\n",
       "    </tr>\n",
       "  </tbody>\n",
       "</table>\n",
       "</div>"
      ],
      "text/plain": [
       "         Date    Open    High     Low    Last   Close  Total Trade Quantity  \\\n",
       "0  2018-10-08  208.00  222.25  206.85  216.00  215.15             4642146.0   \n",
       "1  2018-10-05  217.00  218.60  205.90  210.25  209.20             3519515.0   \n",
       "2  2018-10-04  223.50  227.80  216.15  217.25  218.20             1728786.0   \n",
       "3  2018-10-03  230.00  237.50  225.75  226.45  227.60             1708590.0   \n",
       "4  2018-10-01  234.55  234.60  221.05  230.30  230.90             1534749.0   \n",
       "\n",
       "   Turnover (Lacs)  \n",
       "0         10062.83  \n",
       "1          7407.06  \n",
       "2          3815.79  \n",
       "3          3960.27  \n",
       "4          3486.05  "
      ]
     },
     "execution_count": 11,
     "metadata": {},
     "output_type": "execute_result"
    }
   ],
   "source": [
    "tg.head()"
   ]
  },
  {
   "cell_type": "code",
   "execution_count": 16,
   "id": "81539634-1855-4dc2-a2d7-60fce6568bcc",
   "metadata": {},
   "outputs": [
    {
     "data": {
      "text/html": [
       "<div>\n",
       "<style scoped>\n",
       "    .dataframe tbody tr th:only-of-type {\n",
       "        vertical-align: middle;\n",
       "    }\n",
       "\n",
       "    .dataframe tbody tr th {\n",
       "        vertical-align: top;\n",
       "    }\n",
       "\n",
       "    .dataframe thead th {\n",
       "        text-align: right;\n",
       "    }\n",
       "</style>\n",
       "<table border=\"1\" class=\"dataframe\">\n",
       "  <thead>\n",
       "    <tr style=\"text-align: right;\">\n",
       "      <th></th>\n",
       "      <th>Date</th>\n",
       "      <th>Open</th>\n",
       "      <th>High</th>\n",
       "      <th>Low</th>\n",
       "      <th>Last</th>\n",
       "      <th>Close</th>\n",
       "      <th>Total Trade Quantity</th>\n",
       "      <th>Turnover (Lacs)</th>\n",
       "    </tr>\n",
       "  </thead>\n",
       "  <tbody>\n",
       "    <tr>\n",
       "      <th>1230</th>\n",
       "      <td>2013-10-14</td>\n",
       "      <td>160.85</td>\n",
       "      <td>161.45</td>\n",
       "      <td>157.70</td>\n",
       "      <td>159.3</td>\n",
       "      <td>159.45</td>\n",
       "      <td>1281419.0</td>\n",
       "      <td>2039.09</td>\n",
       "    </tr>\n",
       "    <tr>\n",
       "      <th>1231</th>\n",
       "      <td>2013-10-11</td>\n",
       "      <td>161.15</td>\n",
       "      <td>163.45</td>\n",
       "      <td>159.00</td>\n",
       "      <td>159.8</td>\n",
       "      <td>160.05</td>\n",
       "      <td>1880046.0</td>\n",
       "      <td>3030.76</td>\n",
       "    </tr>\n",
       "    <tr>\n",
       "      <th>1232</th>\n",
       "      <td>2013-10-10</td>\n",
       "      <td>156.00</td>\n",
       "      <td>160.80</td>\n",
       "      <td>155.85</td>\n",
       "      <td>160.3</td>\n",
       "      <td>160.15</td>\n",
       "      <td>3124853.0</td>\n",
       "      <td>4978.80</td>\n",
       "    </tr>\n",
       "    <tr>\n",
       "      <th>1233</th>\n",
       "      <td>2013-10-09</td>\n",
       "      <td>155.70</td>\n",
       "      <td>158.20</td>\n",
       "      <td>154.15</td>\n",
       "      <td>155.3</td>\n",
       "      <td>155.55</td>\n",
       "      <td>2049580.0</td>\n",
       "      <td>3204.49</td>\n",
       "    </tr>\n",
       "    <tr>\n",
       "      <th>1234</th>\n",
       "      <td>2013-10-08</td>\n",
       "      <td>157.00</td>\n",
       "      <td>157.80</td>\n",
       "      <td>155.20</td>\n",
       "      <td>155.8</td>\n",
       "      <td>155.80</td>\n",
       "      <td>1720413.0</td>\n",
       "      <td>2688.94</td>\n",
       "    </tr>\n",
       "  </tbody>\n",
       "</table>\n",
       "</div>"
      ],
      "text/plain": [
       "            Date    Open    High     Low   Last   Close  Total Trade Quantity  \\\n",
       "1230  2013-10-14  160.85  161.45  157.70  159.3  159.45             1281419.0   \n",
       "1231  2013-10-11  161.15  163.45  159.00  159.8  160.05             1880046.0   \n",
       "1232  2013-10-10  156.00  160.80  155.85  160.3  160.15             3124853.0   \n",
       "1233  2013-10-09  155.70  158.20  154.15  155.3  155.55             2049580.0   \n",
       "1234  2013-10-08  157.00  157.80  155.20  155.8  155.80             1720413.0   \n",
       "\n",
       "      Turnover (Lacs)  \n",
       "1230          2039.09  \n",
       "1231          3030.76  \n",
       "1232          4978.80  \n",
       "1233          3204.49  \n",
       "1234          2688.94  "
      ]
     },
     "execution_count": 16,
     "metadata": {},
     "output_type": "execute_result"
    }
   ],
   "source": [
    "tg.tail()"
   ]
  },
  {
   "cell_type": "code",
   "execution_count": 17,
   "id": "361ac4aa-616d-4a0b-8b25-bbf875348f3f",
   "metadata": {},
   "outputs": [
    {
     "data": {
      "text/html": [
       "<div>\n",
       "<style scoped>\n",
       "    .dataframe tbody tr th:only-of-type {\n",
       "        vertical-align: middle;\n",
       "    }\n",
       "\n",
       "    .dataframe tbody tr th {\n",
       "        vertical-align: top;\n",
       "    }\n",
       "\n",
       "    .dataframe thead th {\n",
       "        text-align: right;\n",
       "    }\n",
       "</style>\n",
       "<table border=\"1\" class=\"dataframe\">\n",
       "  <thead>\n",
       "    <tr style=\"text-align: right;\">\n",
       "      <th></th>\n",
       "      <th>Open</th>\n",
       "      <th>High</th>\n",
       "      <th>Low</th>\n",
       "      <th>Last</th>\n",
       "      <th>Close</th>\n",
       "      <th>Total Trade Quantity</th>\n",
       "      <th>Turnover (Lacs)</th>\n",
       "    </tr>\n",
       "  </thead>\n",
       "  <tbody>\n",
       "    <tr>\n",
       "      <th>count</th>\n",
       "      <td>1235.000000</td>\n",
       "      <td>1235.000000</td>\n",
       "      <td>1235.000000</td>\n",
       "      <td>1235.000000</td>\n",
       "      <td>1235.000000</td>\n",
       "      <td>1.235000e+03</td>\n",
       "      <td>1235.000000</td>\n",
       "    </tr>\n",
       "    <tr>\n",
       "      <th>mean</th>\n",
       "      <td>168.954858</td>\n",
       "      <td>171.429069</td>\n",
       "      <td>166.402308</td>\n",
       "      <td>168.736356</td>\n",
       "      <td>168.731053</td>\n",
       "      <td>2.604151e+06</td>\n",
       "      <td>4843.166502</td>\n",
       "    </tr>\n",
       "    <tr>\n",
       "      <th>std</th>\n",
       "      <td>51.499145</td>\n",
       "      <td>52.436761</td>\n",
       "      <td>50.542919</td>\n",
       "      <td>51.587384</td>\n",
       "      <td>51.544928</td>\n",
       "      <td>2.277028e+06</td>\n",
       "      <td>5348.919832</td>\n",
       "    </tr>\n",
       "    <tr>\n",
       "      <th>min</th>\n",
       "      <td>103.000000</td>\n",
       "      <td>104.600000</td>\n",
       "      <td>100.000000</td>\n",
       "      <td>102.600000</td>\n",
       "      <td>102.650000</td>\n",
       "      <td>1.001800e+05</td>\n",
       "      <td>128.040000</td>\n",
       "    </tr>\n",
       "    <tr>\n",
       "      <th>25%</th>\n",
       "      <td>137.550000</td>\n",
       "      <td>138.925000</td>\n",
       "      <td>135.250000</td>\n",
       "      <td>137.175000</td>\n",
       "      <td>137.225000</td>\n",
       "      <td>1.284482e+06</td>\n",
       "      <td>1801.035000</td>\n",
       "    </tr>\n",
       "    <tr>\n",
       "      <th>50%</th>\n",
       "      <td>151.500000</td>\n",
       "      <td>153.250000</td>\n",
       "      <td>149.500000</td>\n",
       "      <td>151.200000</td>\n",
       "      <td>151.100000</td>\n",
       "      <td>1.964885e+06</td>\n",
       "      <td>3068.510000</td>\n",
       "    </tr>\n",
       "    <tr>\n",
       "      <th>75%</th>\n",
       "      <td>169.000000</td>\n",
       "      <td>172.325000</td>\n",
       "      <td>166.700000</td>\n",
       "      <td>169.100000</td>\n",
       "      <td>169.500000</td>\n",
       "      <td>3.095788e+06</td>\n",
       "      <td>5852.600000</td>\n",
       "    </tr>\n",
       "    <tr>\n",
       "      <th>max</th>\n",
       "      <td>327.700000</td>\n",
       "      <td>328.750000</td>\n",
       "      <td>321.650000</td>\n",
       "      <td>325.950000</td>\n",
       "      <td>325.750000</td>\n",
       "      <td>2.919102e+07</td>\n",
       "      <td>55755.080000</td>\n",
       "    </tr>\n",
       "  </tbody>\n",
       "</table>\n",
       "</div>"
      ],
      "text/plain": [
       "              Open         High          Low         Last        Close  \\\n",
       "count  1235.000000  1235.000000  1235.000000  1235.000000  1235.000000   \n",
       "mean    168.954858   171.429069   166.402308   168.736356   168.731053   \n",
       "std      51.499145    52.436761    50.542919    51.587384    51.544928   \n",
       "min     103.000000   104.600000   100.000000   102.600000   102.650000   \n",
       "25%     137.550000   138.925000   135.250000   137.175000   137.225000   \n",
       "50%     151.500000   153.250000   149.500000   151.200000   151.100000   \n",
       "75%     169.000000   172.325000   166.700000   169.100000   169.500000   \n",
       "max     327.700000   328.750000   321.650000   325.950000   325.750000   \n",
       "\n",
       "       Total Trade Quantity  Turnover (Lacs)  \n",
       "count          1.235000e+03      1235.000000  \n",
       "mean           2.604151e+06      4843.166502  \n",
       "std            2.277028e+06      5348.919832  \n",
       "min            1.001800e+05       128.040000  \n",
       "25%            1.284482e+06      1801.035000  \n",
       "50%            1.964885e+06      3068.510000  \n",
       "75%            3.095788e+06      5852.600000  \n",
       "max            2.919102e+07     55755.080000  "
      ]
     },
     "execution_count": 17,
     "metadata": {},
     "output_type": "execute_result"
    }
   ],
   "source": [
    "##Displaying the basics statistics about data\n",
    "tg.describe()"
   ]
  },
  {
   "cell_type": "code",
   "execution_count": null,
   "id": "9dccf6cf-25e7-46cf-afba-3256f1e32302",
   "metadata": {},
   "outputs": [],
   "source": [
    "Sorting the Data"
   ]
  },
  {
   "cell_type": "code",
   "execution_count": 18,
   "id": "5226cad8-7b95-459a-bb81-50b7d32ee75a",
   "metadata": {},
   "outputs": [
    {
     "data": {
      "text/html": [
       "<div>\n",
       "<style scoped>\n",
       "    .dataframe tbody tr th:only-of-type {\n",
       "        vertical-align: middle;\n",
       "    }\n",
       "\n",
       "    .dataframe tbody tr th {\n",
       "        vertical-align: top;\n",
       "    }\n",
       "\n",
       "    .dataframe thead th {\n",
       "        text-align: right;\n",
       "    }\n",
       "</style>\n",
       "<table border=\"1\" class=\"dataframe\">\n",
       "  <thead>\n",
       "    <tr style=\"text-align: right;\">\n",
       "      <th></th>\n",
       "      <th>column_name</th>\n",
       "      <th>percentage</th>\n",
       "    </tr>\n",
       "  </thead>\n",
       "  <tbody>\n",
       "    <tr>\n",
       "      <th>0</th>\n",
       "      <td>Date</td>\n",
       "      <td>0.0</td>\n",
       "    </tr>\n",
       "    <tr>\n",
       "      <th>1</th>\n",
       "      <td>Open</td>\n",
       "      <td>0.0</td>\n",
       "    </tr>\n",
       "    <tr>\n",
       "      <th>2</th>\n",
       "      <td>High</td>\n",
       "      <td>0.0</td>\n",
       "    </tr>\n",
       "    <tr>\n",
       "      <th>3</th>\n",
       "      <td>Low</td>\n",
       "      <td>0.0</td>\n",
       "    </tr>\n",
       "    <tr>\n",
       "      <th>4</th>\n",
       "      <td>Last</td>\n",
       "      <td>0.0</td>\n",
       "    </tr>\n",
       "    <tr>\n",
       "      <th>5</th>\n",
       "      <td>Close</td>\n",
       "      <td>0.0</td>\n",
       "    </tr>\n",
       "    <tr>\n",
       "      <th>6</th>\n",
       "      <td>Total Trade Quantity</td>\n",
       "      <td>0.0</td>\n",
       "    </tr>\n",
       "    <tr>\n",
       "      <th>7</th>\n",
       "      <td>Turnover (Lacs)</td>\n",
       "      <td>0.0</td>\n",
       "    </tr>\n",
       "  </tbody>\n",
       "</table>\n",
       "</div>"
      ],
      "text/plain": [
       "            column_name  percentage\n",
       "0                  Date         0.0\n",
       "1                  Open         0.0\n",
       "2                  High         0.0\n",
       "3                   Low         0.0\n",
       "4                  Last         0.0\n",
       "5                 Close         0.0\n",
       "6  Total Trade Quantity         0.0\n",
       "7       Turnover (Lacs)         0.0"
      ]
     },
     "execution_count": 18,
     "metadata": {},
     "output_type": "execute_result"
    }
   ],
   "source": [
    "##Checking for Null Value\n",
    "NAN = [(c,tg[c].isnull().mean()*100) for c in tg]\n",
    "NAN = pd.DataFrame(NAN,columns=['column_name','percentage'])\n",
    "NAN"
   ]
  },
  {
   "cell_type": "code",
   "execution_count": 20,
   "id": "10363aa5-a456-428a-ab33-2278d7350e3a",
   "metadata": {},
   "outputs": [
    {
     "data": {
      "text/html": [
       "<div>\n",
       "<style scoped>\n",
       "    .dataframe tbody tr th:only-of-type {\n",
       "        vertical-align: middle;\n",
       "    }\n",
       "\n",
       "    .dataframe tbody tr th {\n",
       "        vertical-align: top;\n",
       "    }\n",
       "\n",
       "    .dataframe thead th {\n",
       "        text-align: right;\n",
       "    }\n",
       "</style>\n",
       "<table border=\"1\" class=\"dataframe\">\n",
       "  <thead>\n",
       "    <tr style=\"text-align: right;\">\n",
       "      <th></th>\n",
       "      <th>Date</th>\n",
       "      <th>Open</th>\n",
       "      <th>High</th>\n",
       "      <th>Low</th>\n",
       "      <th>Last</th>\n",
       "      <th>Close</th>\n",
       "      <th>Total Trade Quantity</th>\n",
       "      <th>Turnover (Lacs)</th>\n",
       "    </tr>\n",
       "  </thead>\n",
       "  <tbody>\n",
       "    <tr>\n",
       "      <th>1234</th>\n",
       "      <td>2013-10-08</td>\n",
       "      <td>157.00</td>\n",
       "      <td>157.80</td>\n",
       "      <td>155.20</td>\n",
       "      <td>155.8</td>\n",
       "      <td>155.80</td>\n",
       "      <td>1720413.0</td>\n",
       "      <td>2688.94</td>\n",
       "    </tr>\n",
       "    <tr>\n",
       "      <th>1233</th>\n",
       "      <td>2013-10-09</td>\n",
       "      <td>155.70</td>\n",
       "      <td>158.20</td>\n",
       "      <td>154.15</td>\n",
       "      <td>155.3</td>\n",
       "      <td>155.55</td>\n",
       "      <td>2049580.0</td>\n",
       "      <td>3204.49</td>\n",
       "    </tr>\n",
       "    <tr>\n",
       "      <th>1232</th>\n",
       "      <td>2013-10-10</td>\n",
       "      <td>156.00</td>\n",
       "      <td>160.80</td>\n",
       "      <td>155.85</td>\n",
       "      <td>160.3</td>\n",
       "      <td>160.15</td>\n",
       "      <td>3124853.0</td>\n",
       "      <td>4978.80</td>\n",
       "    </tr>\n",
       "    <tr>\n",
       "      <th>1231</th>\n",
       "      <td>2013-10-11</td>\n",
       "      <td>161.15</td>\n",
       "      <td>163.45</td>\n",
       "      <td>159.00</td>\n",
       "      <td>159.8</td>\n",
       "      <td>160.05</td>\n",
       "      <td>1880046.0</td>\n",
       "      <td>3030.76</td>\n",
       "    </tr>\n",
       "    <tr>\n",
       "      <th>1230</th>\n",
       "      <td>2013-10-14</td>\n",
       "      <td>160.85</td>\n",
       "      <td>161.45</td>\n",
       "      <td>157.70</td>\n",
       "      <td>159.3</td>\n",
       "      <td>159.45</td>\n",
       "      <td>1281419.0</td>\n",
       "      <td>2039.09</td>\n",
       "    </tr>\n",
       "  </tbody>\n",
       "</table>\n",
       "</div>"
      ],
      "text/plain": [
       "            Date    Open    High     Low   Last   Close  Total Trade Quantity  \\\n",
       "1234  2013-10-08  157.00  157.80  155.20  155.8  155.80             1720413.0   \n",
       "1233  2013-10-09  155.70  158.20  154.15  155.3  155.55             2049580.0   \n",
       "1232  2013-10-10  156.00  160.80  155.85  160.3  160.15             3124853.0   \n",
       "1231  2013-10-11  161.15  163.45  159.00  159.8  160.05             1880046.0   \n",
       "1230  2013-10-14  160.85  161.45  157.70  159.3  159.45             1281419.0   \n",
       "\n",
       "      Turnover (Lacs)  \n",
       "1234          2688.94  \n",
       "1233          3204.49  \n",
       "1232          4978.80  \n",
       "1231          3030.76  \n",
       "1230          2039.09  "
      ]
     },
     "execution_count": 20,
     "metadata": {},
     "output_type": "execute_result"
    }
   ],
   "source": [
    "srt = tg.sort_values(by='Date')\n",
    "srt.head()"
   ]
  },
  {
   "cell_type": "code",
   "execution_count": 21,
   "id": "919793fb-2915-42ef-9347-f0ee3b3ce99b",
   "metadata": {},
   "outputs": [
    {
     "data": {
      "text/html": [
       "<div>\n",
       "<style scoped>\n",
       "    .dataframe tbody tr th:only-of-type {\n",
       "        vertical-align: middle;\n",
       "    }\n",
       "\n",
       "    .dataframe tbody tr th {\n",
       "        vertical-align: top;\n",
       "    }\n",
       "\n",
       "    .dataframe thead th {\n",
       "        text-align: right;\n",
       "    }\n",
       "</style>\n",
       "<table border=\"1\" class=\"dataframe\">\n",
       "  <thead>\n",
       "    <tr style=\"text-align: right;\">\n",
       "      <th></th>\n",
       "      <th>index</th>\n",
       "      <th>Date</th>\n",
       "      <th>Open</th>\n",
       "      <th>High</th>\n",
       "      <th>Low</th>\n",
       "      <th>Last</th>\n",
       "      <th>Close</th>\n",
       "      <th>Total Trade Quantity</th>\n",
       "      <th>Turnover (Lacs)</th>\n",
       "    </tr>\n",
       "  </thead>\n",
       "  <tbody>\n",
       "    <tr>\n",
       "      <th>0</th>\n",
       "      <td>1234</td>\n",
       "      <td>2013-10-08</td>\n",
       "      <td>157.00</td>\n",
       "      <td>157.80</td>\n",
       "      <td>155.20</td>\n",
       "      <td>155.8</td>\n",
       "      <td>155.80</td>\n",
       "      <td>1720413.0</td>\n",
       "      <td>2688.94</td>\n",
       "    </tr>\n",
       "    <tr>\n",
       "      <th>1</th>\n",
       "      <td>1233</td>\n",
       "      <td>2013-10-09</td>\n",
       "      <td>155.70</td>\n",
       "      <td>158.20</td>\n",
       "      <td>154.15</td>\n",
       "      <td>155.3</td>\n",
       "      <td>155.55</td>\n",
       "      <td>2049580.0</td>\n",
       "      <td>3204.49</td>\n",
       "    </tr>\n",
       "    <tr>\n",
       "      <th>2</th>\n",
       "      <td>1232</td>\n",
       "      <td>2013-10-10</td>\n",
       "      <td>156.00</td>\n",
       "      <td>160.80</td>\n",
       "      <td>155.85</td>\n",
       "      <td>160.3</td>\n",
       "      <td>160.15</td>\n",
       "      <td>3124853.0</td>\n",
       "      <td>4978.80</td>\n",
       "    </tr>\n",
       "    <tr>\n",
       "      <th>3</th>\n",
       "      <td>1231</td>\n",
       "      <td>2013-10-11</td>\n",
       "      <td>161.15</td>\n",
       "      <td>163.45</td>\n",
       "      <td>159.00</td>\n",
       "      <td>159.8</td>\n",
       "      <td>160.05</td>\n",
       "      <td>1880046.0</td>\n",
       "      <td>3030.76</td>\n",
       "    </tr>\n",
       "    <tr>\n",
       "      <th>4</th>\n",
       "      <td>1230</td>\n",
       "      <td>2013-10-14</td>\n",
       "      <td>160.85</td>\n",
       "      <td>161.45</td>\n",
       "      <td>157.70</td>\n",
       "      <td>159.3</td>\n",
       "      <td>159.45</td>\n",
       "      <td>1281419.0</td>\n",
       "      <td>2039.09</td>\n",
       "    </tr>\n",
       "  </tbody>\n",
       "</table>\n",
       "</div>"
      ],
      "text/plain": [
       "   index        Date    Open    High     Low   Last   Close  \\\n",
       "0   1234  2013-10-08  157.00  157.80  155.20  155.8  155.80   \n",
       "1   1233  2013-10-09  155.70  158.20  154.15  155.3  155.55   \n",
       "2   1232  2013-10-10  156.00  160.80  155.85  160.3  160.15   \n",
       "3   1231  2013-10-11  161.15  163.45  159.00  159.8  160.05   \n",
       "4   1230  2013-10-14  160.85  161.45  157.70  159.3  159.45   \n",
       "\n",
       "   Total Trade Quantity  Turnover (Lacs)  \n",
       "0             1720413.0          2688.94  \n",
       "1             2049580.0          3204.49  \n",
       "2             3124853.0          4978.80  \n",
       "3             1880046.0          3030.76  \n",
       "4             1281419.0          2039.09  "
      ]
     },
     "execution_count": 21,
     "metadata": {},
     "output_type": "execute_result"
    }
   ],
   "source": [
    "srt.reset_index(inplace=True)\n",
    "srt.head()"
   ]
  },
  {
   "cell_type": "code",
   "execution_count": null,
   "id": "cad876f7-420b-437b-8942-e777674e63a5",
   "metadata": {},
   "outputs": [],
   "source": [
    "Data Visualization"
   ]
  },
  {
   "cell_type": "code",
   "execution_count": 22,
   "id": "0234c666-e80d-4aee-a513-88ff7bb756dc",
   "metadata": {},
   "outputs": [
    {
     "data": {
      "text/plain": [
       "[<matplotlib.lines.Line2D at 0x1ecad1ff610>]"
      ]
     },
     "execution_count": 22,
     "metadata": {},
     "output_type": "execute_result"
    },
    {
     "data": {
      "image/png": "[encoded data removed]",
      "text/plain": [
       "<Figure size 1000x700 with 1 Axes>"
      ]
     },
     "metadata": {},
     "output_type": "display_data"
    }
   ],
   "source": [
    "##Ploting the graph for the data and close\n",
    "plt.figure(figsize=(10,7))\n",
    "plt.plot(srt['Date'],srt['Close'])"
   ]
  },
  {
   "cell_type": "code",
   "execution_count": 23,
   "id": "0b66ae36-0c19-4844-8157-82aa7c01a584",
   "metadata": {},
   "outputs": [
    {
     "data": {
      "text/plain": [
       "0       155.80\n",
       "1       155.55\n",
       "2       160.15\n",
       "3       160.05\n",
       "4       159.45\n",
       "         ...  \n",
       "1230    230.90\n",
       "1231    227.60\n",
       "1232    218.20\n",
       "1233    209.20\n",
       "1234    215.15\n",
       "Name: Close, Length: 1235, dtype: float64"
      ]
     },
     "execution_count": 23,
     "metadata": {},
     "output_type": "execute_result"
    }
   ],
   "source": [
    "close_srt = srt['Close']\n",
    "close_srt"
   ]
  },
  {
   "cell_type": "code",
   "execution_count": null,
   "id": "80bd1399-8040-467e-8f1b-532d9ae3a9cb",
   "metadata": {},
   "outputs": [],
   "source": [
    "Feature Scaling(MinMax Scaler)"
   ]
  },
  {
   "cell_type": "code",
   "execution_count": 25,
   "id": "6699d676-0a25-494d-b9d0-635ce7f52f60",
   "metadata": {},
   "outputs": [
    {
     "data": {
      "text/plain": [
       "array([[0.23823398],\n",
       "       [0.2371134 ],\n",
       "       [0.25773196],\n",
       "       ...,\n",
       "       [0.51792918],\n",
       "       [0.47758853],\n",
       "       [0.50425818]])"
      ]
     },
     "execution_count": 25,
     "metadata": {},
     "output_type": "execute_result"
    }
   ],
   "source": [
    "scaler = MinMaxScaler(feature_range=(0,1))\n",
    "close_srt = scaler.fit_transform(np.array(close_srt).reshape(-1,1))\n",
    "close_srt"
   ]
  },
  {
   "cell_type": "code",
   "execution_count": null,
   "id": "e5c3a1e9-a55d-47fc-9d00-4d9e1ff38ad8",
   "metadata": {},
   "outputs": [],
   "source": [
    "Since LSTM are sensitive to the scale to the data, so we apply MinMax Scaler to transform our values between 0 and 1"
   ]
  },
  {
   "cell_type": "code",
   "execution_count": 27,
   "id": "5d920ffa-0ff1-4265-8409-c2fe1a06461a",
   "metadata": {},
   "outputs": [],
   "source": [
    "##Splitting the dataset\n",
    "train_size = int(len(close_srt)*0.7)\n",
    "test_size = len(close_srt) - train_size\n",
    "train_data,test_data = close_srt[0:train_size,:],close_srt[train_size:len(close_srt),:1]"
   ]
  },
  {
   "cell_type": "code",
   "execution_count": 28,
   "id": "e0ffad8e-53d3-45e9-a31c-45c4f9c70ea6",
   "metadata": {},
   "outputs": [
    {
     "data": {
      "text/plain": [
       "(864, 1)"
      ]
     },
     "execution_count": 28,
     "metadata": {},
     "output_type": "execute_result"
    }
   ],
   "source": [
    "train_data.shape"
   ]
  },
  {
   "cell_type": "code",
   "execution_count": 29,
   "id": "8cfe8865-79be-438e-b195-765607f493af",
   "metadata": {},
   "outputs": [
    {
     "data": {
      "text/plain": [
       "(371, 1)"
      ]
     },
     "execution_count": 29,
     "metadata": {},
     "output_type": "execute_result"
    }
   ],
   "source": [
    "test_data.shape"
   ]
  },
  {
   "cell_type": "code",
   "execution_count": 34,
   "id": "ecdb9fb8-0064-49de-b0ec-0fd2d55d20c0",
   "metadata": {},
   "outputs": [],
   "source": [
    "##Convert an array of values into a dataset matrix \n",
    "def create_dataset(dataset,time_step=1):\n",
    "    dataX,dataY=[],[]\n",
    "    for i in range(len(dataset)-time_step-1):\n",
    "        a=dataset[i:(i+time_step),0] ###i=0, 0,1,2,3....99  100\n",
    "        dataX.append(a)\n",
    "        dataY.append(dataset[i+time_step,0])\n",
    "    return np.array(dataX),np.array(dataY)"
   ]
  },
  {
   "cell_type": "code",
   "execution_count": 35,
   "id": "a6a9d653-4384-4fe1-9103-9abedd5040b0",
   "metadata": {},
   "outputs": [],
   "source": [
    "##Reshaping the dataset\n",
    "time_step = 100\n",
    "x_train, y_train = create_dataset(train_data,time_step)\n",
    "x_test, y_test = create_dataset(test_data,time_step)"
   ]
  },
  {
   "cell_type": "code",
   "execution_count": 36,
   "id": "420abc89-2c78-45b5-9757-50f2b16a496c",
   "metadata": {},
   "outputs": [
    {
     "name": "stdout",
     "output_type": "stream",
     "text": [
      "(763, 100)\n",
      "(763,)\n"
     ]
    },
    {
     "data": {
      "text/plain": [
       "(None, None)"
      ]
     },
     "execution_count": 36,
     "metadata": {},
     "output_type": "execute_result"
    }
   ],
   "source": [
    "print(x_train.shape), print(y_train.shape)"
   ]
  },
  {
   "cell_type": "code",
   "execution_count": 37,
   "id": "3b383050-ed2d-49fe-a7bd-fc134470dffe",
   "metadata": {},
   "outputs": [
    {
     "name": "stdout",
     "output_type": "stream",
     "text": [
      "(270, 100)\n",
      "(270,)\n"
     ]
    },
    {
     "data": {
      "text/plain": [
       "(None, None)"
      ]
     },
     "execution_count": 37,
     "metadata": {},
     "output_type": "execute_result"
    }
   ],
   "source": [
    "print(x_test.shape), print(y_test.shape)"
   ]
  },
  {
   "cell_type": "code",
   "execution_count": 38,
   "id": "ca4c0435-3c5d-4817-88a6-20079cc8cf97",
   "metadata": {},
   "outputs": [],
   "source": [
    "x_train = x_train.reshape(x_train.shape[0],x_train.shape[1],1)\n",
    "x_test = x_test.reshape(x_test.shape[0],x_test.shape[1],1)"
   ]
  },
  {
   "cell_type": "code",
   "execution_count": 39,
   "id": "e2838629-0367-4ef2-921c-fdc29fbc287c",
   "metadata": {},
   "outputs": [
    {
     "data": {
      "text/plain": [
       "array([[[0.23823398],\n",
       "        [0.2371134 ],\n",
       "        [0.25773196],\n",
       "        ...,\n",
       "        [0.17279247],\n",
       "        [0.16651726],\n",
       "        [0.16606903]],\n",
       "\n",
       "       [[0.2371134 ],\n",
       "        [0.25773196],\n",
       "        [0.25728373],\n",
       "        ...,\n",
       "        [0.16651726],\n",
       "        [0.16606903],\n",
       "        [0.14926042]],\n",
       "\n",
       "       [[0.25773196],\n",
       "        [0.25728373],\n",
       "        [0.25459435],\n",
       "        ...,\n",
       "        [0.16606903],\n",
       "        [0.14926042],\n",
       "        [0.16920663]],\n",
       "\n",
       "       ...,\n",
       "\n",
       "       [[0.08628418],\n",
       "        [0.10197221],\n",
       "        [0.07171672],\n",
       "        ...,\n",
       "        [0.21290901],\n",
       "        [0.21470193],\n",
       "        [0.22075303]],\n",
       "\n",
       "       [[0.10197221],\n",
       "        [0.07171672],\n",
       "        [0.06432093],\n",
       "        ...,\n",
       "        [0.21470193],\n",
       "        [0.22075303],\n",
       "        [0.22411475]],\n",
       "\n",
       "       [[0.07171672],\n",
       "        [0.06432093],\n",
       "        [0.0835948 ],\n",
       "        ...,\n",
       "        [0.22075303],\n",
       "        [0.22411475],\n",
       "        [0.22590766]]])"
      ]
     },
     "execution_count": 39,
     "metadata": {},
     "output_type": "execute_result"
    }
   ],
   "source": [
    "x_train"
   ]
  },
  {
   "cell_type": "code",
   "execution_count": 40,
   "id": "00ef9572-c66e-45a9-b916-3f1459f6575d",
   "metadata": {},
   "outputs": [
    {
     "data": {
      "text/plain": [
       "array([[[0.22747647],\n",
       "        [0.22008068],\n",
       "        [0.21447781],\n",
       "        ...,\n",
       "        [0.42738682],\n",
       "        [0.4255939 ],\n",
       "        [0.40632004]],\n",
       "\n",
       "       [[0.22008068],\n",
       "        [0.21447781],\n",
       "        [0.2097714 ],\n",
       "        ...,\n",
       "        [0.4255939 ],\n",
       "        [0.40632004],\n",
       "        [0.42155984]],\n",
       "\n",
       "       [[0.21447781],\n",
       "        [0.2097714 ],\n",
       "        [0.20394442],\n",
       "        ...,\n",
       "        [0.40632004],\n",
       "        [0.42155984],\n",
       "        [0.46302107]],\n",
       "\n",
       "       ...,\n",
       "\n",
       "       [[0.84872255],\n",
       "        [0.81846706],\n",
       "        [0.82855222],\n",
       "        ...,\n",
       "        [0.58538772],\n",
       "        [0.58762887],\n",
       "        [0.57485433]],\n",
       "\n",
       "       [[0.81846706],\n",
       "        [0.82855222],\n",
       "        [0.6869117 ],\n",
       "        ...,\n",
       "        [0.58762887],\n",
       "        [0.57485433],\n",
       "        [0.56006275]],\n",
       "\n",
       "       [[0.82855222],\n",
       "        [0.6869117 ],\n",
       "        [0.62752129],\n",
       "        ...,\n",
       "        [0.57485433],\n",
       "        [0.56006275],\n",
       "        [0.51792918]]])"
      ]
     },
     "execution_count": 40,
     "metadata": {},
     "output_type": "execute_result"
    }
   ],
   "source": [
    "x_test"
   ]
  },
  {
   "cell_type": "code",
   "execution_count": null,
   "id": "ac5d7d08-c752-4eb4-b62d-f71e29dda171",
   "metadata": {},
   "outputs": [],
   "source": [
    "Creating the stacked LSTM model"
   ]
  },
  {
   "cell_type": "code",
   "execution_count": 42,
   "id": "5fa48fe3-5627-4e07-be72-20fc4ea7d357",
   "metadata": {},
   "outputs": [],
   "source": [
    "from tensorflow.keras.models import Sequential;\n",
    "from tensorflow.keras.layers import Dense\n",
    "from tensorflow.keras.layers import LSTM"
   ]
  },
  {
   "cell_type": "code",
   "execution_count": 43,
   "id": "3fd64dc1-458d-40b9-ad31-6037bce2e035",
   "metadata": {},
   "outputs": [
    {
     "name": "stderr",
     "output_type": "stream",
     "text": [
      "C:\\Users\\mahab\\AppData\\Roaming\\Python\\Python311\\site-packages\\keras\\src\\layers\\rnn\\rnn.py:204: UserWarning: Do not pass an `input_shape`/`input_dim` argument to a layer. When using Sequential models, prefer using an `Input(shape)` object as the first layer in the model instead.\n",
      "  super().__init__(**kwargs)\n"
     ]
    }
   ],
   "source": [
    "##Creating the LSTM model\n",
    "model = Sequential()\n",
    "model.add(LSTM(50,return_sequences=True,input_shape=(100,1)))\n",
    "model.add(LSTM(50,return_sequences=True))\n",
    "model.add(LSTM(50))\n",
    "model.add(Dense(1))\n",
    "model.compile(loss='mean_squared_error',optimizer='adam')"
   ]
  },
  {
   "cell_type": "code",
   "execution_count": 44,
   "id": "63e20558-f845-4dc8-887e-2e341f86320d",
   "metadata": {},
   "outputs": [
    {
     "data": {
      "text/html": [
       "<pre style=\"white-space:pre;overflow-x:auto;line-height:normal;font-family:Menlo,'DejaVu Sans Mono',consolas,'Courier New',monospace\"><span style=\"font-weight: bold\">Model: \"sequential\"</span>\n",
       "</pre>\n"
      ],
      "text/plain": [
       "\u001b[1mModel: \"sequential\"\u001b[0m\n"
      ]
     },
     "metadata": {},
     "output_type": "display_data"
    },
    {
     "data": {
      "text/html": [
       "<pre style=\"white-space:pre;overflow-x:auto;line-height:normal;font-family:Menlo,'DejaVu Sans Mono',consolas,'Courier New',monospace\">┏━━━━━━━━━━━━━━━━━━━━━━━━━━━━━━━━━━━━━━┳━━━━━━━━━━━━━━━━━━━━━━━━━━━━━┳━━━━━━━━━━━━━━━━━┓\n",
       "┃<span style=\"font-weight: bold\"> Layer (type)                         </span>┃<span style=\"font-weight: bold\"> Output Shape                </span>┃<span style=\"font-weight: bold\">         Param # </span>┃\n",
       "┡━━━━━━━━━━━━━━━━━━━━━━━━━━━━━━━━━━━━━━╇━━━━━━━━━━━━━━━━━━━━━━━━━━━━━╇━━━━━━━━━━━━━━━━━┩\n",
       "│ lstm (<span style=\"color: #0087ff; text-decoration-color: #0087ff\">LSTM</span>)                          │ (<span style=\"color: #00d7ff; text-decoration-color: #00d7ff\">None</span>, <span style=\"color: #00af00; text-decoration-color: #00af00\">100</span>, <span style=\"color: #00af00; text-decoration-color: #00af00\">50</span>)             │          <span style=\"color: #00af00; text-decoration-color: #00af00\">10,400</span> │\n",
       "├──────────────────────────────────────┼─────────────────────────────┼─────────────────┤\n",
       "│ lstm_1 (<span style=\"color: #0087ff; text-decoration-color: #0087ff\">LSTM</span>)                        │ (<span style=\"color: #00d7ff; text-decoration-color: #00d7ff\">None</span>, <span style=\"color: #00af00; text-decoration-color: #00af00\">100</span>, <span style=\"color: #00af00; text-decoration-color: #00af00\">50</span>)             │          <span style=\"color: #00af00; text-decoration-color: #00af00\">20,200</span> │\n",
       "├──────────────────────────────────────┼─────────────────────────────┼─────────────────┤\n",
       "│ lstm_2 (<span style=\"color: #0087ff; text-decoration-color: #0087ff\">LSTM</span>)                        │ (<span style=\"color: #00d7ff; text-decoration-color: #00d7ff\">None</span>, <span style=\"color: #00af00; text-decoration-color: #00af00\">50</span>)                  │          <span style=\"color: #00af00; text-decoration-color: #00af00\">20,200</span> │\n",
       "├──────────────────────────────────────┼─────────────────────────────┼─────────────────┤\n",
       "│ dense (<span style=\"color: #0087ff; text-decoration-color: #0087ff\">Dense</span>)                        │ (<span style=\"color: #00d7ff; text-decoration-color: #00d7ff\">None</span>, <span style=\"color: #00af00; text-decoration-color: #00af00\">1</span>)                   │              <span style=\"color: #00af00; text-decoration-color: #00af00\">51</span> │\n",
       "└──────────────────────────────────────┴─────────────────────────────┴─────────────────┘\n",
       "</pre>\n"
      ],
      "text/plain": [
       "┏━━━━━━━━━━━━━━━━━━━━━━━━━━━━━━━━━━━━━━┳━━━━━━━━━━━━━━━━━━━━━━━━━━━━━┳━━━━━━━━━━━━━━━━━┓\n",
       "┃\u001b[1m \u001b[0m\u001b[1mLayer (type)                        \u001b[0m\u001b[1m \u001b[0m┃\u001b[1m \u001b[0m\u001b[1mOutput Shape               \u001b[0m\u001b[1m \u001b[0m┃\u001b[1m \u001b[0m\u001b[1m        Param #\u001b[0m\u001b[1m \u001b[0m┃\n",
       "┡━━━━━━━━━━━━━━━━━━━━━━━━━━━━━━━━━━━━━━╇━━━━━━━━━━━━━━━━━━━━━━━━━━━━━╇━━━━━━━━━━━━━━━━━┩\n",
       "│ lstm (\u001b[38;5;33mLSTM\u001b[0m)                          │ (\u001b[38;5;45mNone\u001b[0m, \u001b[38;5;34m100\u001b[0m, \u001b[38;5;34m50\u001b[0m)             │          \u001b[38;5;34m10,400\u001b[0m │\n",
       "├──────────────────────────────────────┼─────────────────────────────┼─────────────────┤\n",
       "│ lstm_1 (\u001b[38;5;33mLSTM\u001b[0m)                        │ (\u001b[38;5;45mNone\u001b[0m, \u001b[38;5;34m100\u001b[0m, \u001b[38;5;34m50\u001b[0m)             │          \u001b[38;5;34m20,200\u001b[0m │\n",
       "├──────────────────────────────────────┼─────────────────────────────┼─────────────────┤\n",
       "│ lstm_2 (\u001b[38;5;33mLSTM\u001b[0m)                        │ (\u001b[38;5;45mNone\u001b[0m, \u001b[38;5;34m50\u001b[0m)                  │          \u001b[38;5;34m20,200\u001b[0m │\n",
       "├──────────────────────────────────────┼─────────────────────────────┼─────────────────┤\n",
       "│ dense (\u001b[38;5;33mDense\u001b[0m)                        │ (\u001b[38;5;45mNone\u001b[0m, \u001b[38;5;34m1\u001b[0m)                   │              \u001b[38;5;34m51\u001b[0m │\n",
       "└──────────────────────────────────────┴─────────────────────────────┴─────────────────┘\n"
      ]
     },
     "metadata": {},
     "output_type": "display_data"
    },
    {
     "data": {
      "text/html": [
       "<pre style=\"white-space:pre;overflow-x:auto;line-height:normal;font-family:Menlo,'DejaVu Sans Mono',consolas,'Courier New',monospace\"><span style=\"font-weight: bold\"> Total params: </span><span style=\"color: #00af00; text-decoration-color: #00af00\">50,851</span> (198.64 KB)\n",
       "</pre>\n"
      ],
      "text/plain": [
       "\u001b[1m Total params: \u001b[0m\u001b[38;5;34m50,851\u001b[0m (198.64 KB)\n"
      ]
     },
     "metadata": {},
     "output_type": "display_data"
    },
    {
     "data": {
      "text/html": [
       "<pre style=\"white-space:pre;overflow-x:auto;line-height:normal;font-family:Menlo,'DejaVu Sans Mono',consolas,'Courier New',monospace\"><span style=\"font-weight: bold\"> Trainable params: </span><span style=\"color: #00af00; text-decoration-color: #00af00\">50,851</span> (198.64 KB)\n",
       "</pre>\n"
      ],
      "text/plain": [
       "\u001b[1m Trainable params: \u001b[0m\u001b[38;5;34m50,851\u001b[0m (198.64 KB)\n"
      ]
     },
     "metadata": {},
     "output_type": "display_data"
    },
    {
     "data": {
      "text/html": [
       "<pre style=\"white-space:pre;overflow-x:auto;line-height:normal;font-family:Menlo,'DejaVu Sans Mono',consolas,'Courier New',monospace\"><span style=\"font-weight: bold\"> Non-trainable params: </span><span style=\"color: #00af00; text-decoration-color: #00af00\">0</span> (0.00 B)\n",
       "</pre>\n"
      ],
      "text/plain": [
       "\u001b[1m Non-trainable params: \u001b[0m\u001b[38;5;34m0\u001b[0m (0.00 B)\n"
      ]
     },
     "metadata": {},
     "output_type": "display_data"
    }
   ],
   "source": [
    "model.summary()"
   ]
  },
  {
   "cell_type": "code",
   "execution_count": null,
   "id": "13090320-eb1d-4d77-a4ae-9a0928c1818f",
   "metadata": {},
   "outputs": [],
   "source": [
    "PREDICTION AND CHECKING PERFORMANCE"
   ]
  },
  {
   "cell_type": "code",
   "execution_count": 46,
   "id": "146b676d-cf51-4e58-93b7-75d574cda5b7",
   "metadata": {},
   "outputs": [
    {
     "name": "stdout",
     "output_type": "stream",
     "text": [
      "Epoch 1/60\n",
      "\u001b[1m11/11\u001b[0m \u001b[32m━━━━━━━━━━━━━━━━━━━━\u001b[0m\u001b[37m\u001b[0m \u001b[1m5s\u001b[0m 132ms/step - loss: 0.0168 - val_loss: 0.0013\n",
      "Epoch 2/60\n",
      "\u001b[1m11/11\u001b[0m \u001b[32m━━━━━━━━━━━━━━━━━━━━\u001b[0m\u001b[37m\u001b[0m \u001b[1m1s\u001b[0m 82ms/step - loss: 0.0028 - val_loss: 0.0012\n",
      "Epoch 3/60\n",
      "\u001b[1m11/11\u001b[0m \u001b[32m━━━━━━━━━━━━━━━━━━━━\u001b[0m\u001b[37m\u001b[0m \u001b[1m1s\u001b[0m 82ms/step - loss: 0.0018 - val_loss: 8.0268e-04\n",
      "Epoch 4/60\n",
      "\u001b[1m11/11\u001b[0m \u001b[32m━━━━━━━━━━━━━━━━━━━━\u001b[0m\u001b[37m\u001b[0m \u001b[1m1s\u001b[0m 89ms/step - loss: 0.0014 - val_loss: 6.4565e-04\n",
      "Epoch 5/60\n",
      "\u001b[1m11/11\u001b[0m \u001b[32m━━━━━━━━━━━━━━━━━━━━\u001b[0m\u001b[37m\u001b[0m \u001b[1m1s\u001b[0m 80ms/step - loss: 0.0011 - val_loss: 5.9526e-04\n",
      "Epoch 6/60\n",
      "\u001b[1m11/11\u001b[0m \u001b[32m━━━━━━━━━━━━━━━━━━━━\u001b[0m\u001b[37m\u001b[0m \u001b[1m1s\u001b[0m 82ms/step - loss: 0.0010 - val_loss: 4.9638e-04\n",
      "Epoch 7/60\n",
      "\u001b[1m11/11\u001b[0m \u001b[32m━━━━━━━━━━━━━━━━━━━━\u001b[0m\u001b[37m\u001b[0m \u001b[1m1s\u001b[0m 84ms/step - loss: 9.1375e-04 - val_loss: 5.9558e-04\n",
      "Epoch 8/60\n",
      "\u001b[1m11/11\u001b[0m \u001b[32m━━━━━━━━━━━━━━━━━━━━\u001b[0m\u001b[37m\u001b[0m \u001b[1m1s\u001b[0m 82ms/step - loss: 8.6818e-04 - val_loss: 5.6825e-04\n",
      "Epoch 9/60\n",
      "\u001b[1m11/11\u001b[0m \u001b[32m━━━━━━━━━━━━━━━━━━━━\u001b[0m\u001b[37m\u001b[0m \u001b[1m1s\u001b[0m 82ms/step - loss: 8.7201e-04 - val_loss: 4.5266e-04\n",
      "Epoch 10/60\n",
      "\u001b[1m11/11\u001b[0m \u001b[32m━━━━━━━━━━━━━━━━━━━━\u001b[0m\u001b[37m\u001b[0m \u001b[1m1s\u001b[0m 81ms/step - loss: 9.5752e-04 - val_loss: 3.9471e-04\n",
      "Epoch 11/60\n",
      "\u001b[1m11/11\u001b[0m \u001b[32m━━━━━━━━━━━━━━━━━━━━\u001b[0m\u001b[37m\u001b[0m \u001b[1m1s\u001b[0m 82ms/step - loss: 9.7690e-04 - val_loss: 3.7308e-04\n",
      "Epoch 12/60\n",
      "\u001b[1m11/11\u001b[0m \u001b[32m━━━━━━━━━━━━━━━━━━━━\u001b[0m\u001b[37m\u001b[0m \u001b[1m1s\u001b[0m 82ms/step - loss: 7.9678e-04 - val_loss: 3.6543e-04\n",
      "Epoch 13/60\n",
      "\u001b[1m11/11\u001b[0m \u001b[32m━━━━━━━━━━━━━━━━━━━━\u001b[0m\u001b[37m\u001b[0m \u001b[1m1s\u001b[0m 82ms/step - loss: 8.8888e-04 - val_loss: 3.7410e-04\n",
      "Epoch 14/60\n",
      "\u001b[1m11/11\u001b[0m \u001b[32m━━━━━━━━━━━━━━━━━━━━\u001b[0m\u001b[37m\u001b[0m \u001b[1m1s\u001b[0m 82ms/step - loss: 8.4733e-04 - val_loss: 4.6241e-04\n",
      "Epoch 15/60\n",
      "\u001b[1m11/11\u001b[0m \u001b[32m━━━━━━━━━━━━━━━━━━━━\u001b[0m\u001b[37m\u001b[0m \u001b[1m1s\u001b[0m 81ms/step - loss: 6.9285e-04 - val_loss: 5.6701e-04\n",
      "Epoch 16/60\n",
      "\u001b[1m11/11\u001b[0m \u001b[32m━━━━━━━━━━━━━━━━━━━━\u001b[0m\u001b[37m\u001b[0m \u001b[1m1s\u001b[0m 82ms/step - loss: 7.2122e-04 - val_loss: 4.8709e-04\n",
      "Epoch 17/60\n",
      "\u001b[1m11/11\u001b[0m \u001b[32m━━━━━━━━━━━━━━━━━━━━\u001b[0m\u001b[37m\u001b[0m \u001b[1m1s\u001b[0m 82ms/step - loss: 7.1843e-04 - val_loss: 4.3969e-04\n",
      "Epoch 18/60\n",
      "\u001b[1m11/11\u001b[0m \u001b[32m━━━━━━━━━━━━━━━━━━━━\u001b[0m\u001b[37m\u001b[0m \u001b[1m1s\u001b[0m 85ms/step - loss: 6.7213e-04 - val_loss: 3.9916e-04\n",
      "Epoch 19/60\n",
      "\u001b[1m11/11\u001b[0m \u001b[32m━━━━━━━━━━━━━━━━━━━━\u001b[0m\u001b[37m\u001b[0m \u001b[1m1s\u001b[0m 89ms/step - loss: 6.5508e-04 - val_loss: 3.5781e-04\n",
      "Epoch 20/60\n",
      "\u001b[1m11/11\u001b[0m \u001b[32m━━━━━━━━━━━━━━━━━━━━\u001b[0m\u001b[37m\u001b[0m \u001b[1m1s\u001b[0m 82ms/step - loss: 6.1792e-04 - val_loss: 3.6978e-04\n",
      "Epoch 21/60\n",
      "\u001b[1m11/11\u001b[0m \u001b[32m━━━━━━━━━━━━━━━━━━━━\u001b[0m\u001b[37m\u001b[0m \u001b[1m1s\u001b[0m 82ms/step - loss: 6.1215e-04 - val_loss: 3.4708e-04\n",
      "Epoch 22/60\n",
      "\u001b[1m11/11\u001b[0m \u001b[32m━━━━━━━━━━━━━━━━━━━━\u001b[0m\u001b[37m\u001b[0m \u001b[1m1s\u001b[0m 82ms/step - loss: 6.1570e-04 - val_loss: 3.5733e-04\n",
      "Epoch 23/60\n",
      "\u001b[1m11/11\u001b[0m \u001b[32m━━━━━━━━━━━━━━━━━━━━\u001b[0m\u001b[37m\u001b[0m \u001b[1m1s\u001b[0m 84ms/step - loss: 6.9611e-04 - val_loss: 5.5745e-04\n",
      "Epoch 24/60\n",
      "\u001b[1m11/11\u001b[0m \u001b[32m━━━━━━━━━━━━━━━━━━━━\u001b[0m\u001b[37m\u001b[0m \u001b[1m1s\u001b[0m 83ms/step - loss: 5.8681e-04 - val_loss: 3.8413e-04\n",
      "Epoch 25/60\n",
      "\u001b[1m11/11\u001b[0m \u001b[32m━━━━━━━━━━━━━━━━━━━━\u001b[0m\u001b[37m\u001b[0m \u001b[1m1s\u001b[0m 89ms/step - loss: 5.0561e-04 - val_loss: 4.1446e-04\n",
      "Epoch 26/60\n",
      "\u001b[1m11/11\u001b[0m \u001b[32m━━━━━━━━━━━━━━━━━━━━\u001b[0m\u001b[37m\u001b[0m \u001b[1m1s\u001b[0m 82ms/step - loss: 5.8952e-04 - val_loss: 3.6288e-04\n",
      "Epoch 27/60\n",
      "\u001b[1m11/11\u001b[0m \u001b[32m━━━━━━━━━━━━━━━━━━━━\u001b[0m\u001b[37m\u001b[0m \u001b[1m1s\u001b[0m 81ms/step - loss: 5.8780e-04 - val_loss: 3.1623e-04\n",
      "Epoch 28/60\n",
      "\u001b[1m11/11\u001b[0m \u001b[32m━━━━━━━━━━━━━━━━━━━━\u001b[0m\u001b[37m\u001b[0m \u001b[1m1s\u001b[0m 83ms/step - loss: 6.1310e-04 - val_loss: 4.4463e-04\n",
      "Epoch 29/60\n",
      "\u001b[1m11/11\u001b[0m \u001b[32m━━━━━━━━━━━━━━━━━━━━\u001b[0m\u001b[37m\u001b[0m \u001b[1m1s\u001b[0m 85ms/step - loss: 5.2392e-04 - val_loss: 3.7415e-04\n",
      "Epoch 30/60\n",
      "\u001b[1m11/11\u001b[0m \u001b[32m━━━━━━━━━━━━━━━━━━━━\u001b[0m\u001b[37m\u001b[0m \u001b[1m1s\u001b[0m 82ms/step - loss: 5.5312e-04 - val_loss: 3.1099e-04\n",
      "Epoch 31/60\n",
      "\u001b[1m11/11\u001b[0m \u001b[32m━━━━━━━━━━━━━━━━━━━━\u001b[0m\u001b[37m\u001b[0m \u001b[1m1s\u001b[0m 83ms/step - loss: 6.3737e-04 - val_loss: 4.4460e-04\n",
      "Epoch 32/60\n",
      "\u001b[1m11/11\u001b[0m \u001b[32m━━━━━━━━━━━━━━━━━━━━\u001b[0m\u001b[37m\u001b[0m \u001b[1m1s\u001b[0m 82ms/step - loss: 5.3173e-04 - val_loss: 3.7894e-04\n",
      "Epoch 33/60\n",
      "\u001b[1m11/11\u001b[0m \u001b[32m━━━━━━━━━━━━━━━━━━━━\u001b[0m\u001b[37m\u001b[0m \u001b[1m1s\u001b[0m 89ms/step - loss: 5.2680e-04 - val_loss: 2.9091e-04\n",
      "Epoch 34/60\n",
      "\u001b[1m11/11\u001b[0m \u001b[32m━━━━━━━━━━━━━━━━━━━━\u001b[0m\u001b[37m\u001b[0m \u001b[1m1s\u001b[0m 82ms/step - loss: 4.6269e-04 - val_loss: 2.9887e-04\n",
      "Epoch 35/60\n",
      "\u001b[1m11/11\u001b[0m \u001b[32m━━━━━━━━━━━━━━━━━━━━\u001b[0m\u001b[37m\u001b[0m \u001b[1m1s\u001b[0m 82ms/step - loss: 4.8198e-04 - val_loss: 2.7333e-04\n",
      "Epoch 36/60\n",
      "\u001b[1m11/11\u001b[0m \u001b[32m━━━━━━━━━━━━━━━━━━━━\u001b[0m\u001b[37m\u001b[0m \u001b[1m1s\u001b[0m 82ms/step - loss: 5.2058e-04 - val_loss: 3.9067e-04\n",
      "Epoch 37/60\n",
      "\u001b[1m11/11\u001b[0m \u001b[32m━━━━━━━━━━━━━━━━━━━━\u001b[0m\u001b[37m\u001b[0m \u001b[1m1s\u001b[0m 81ms/step - loss: 5.3259e-04 - val_loss: 3.0147e-04\n",
      "Epoch 38/60\n",
      "\u001b[1m11/11\u001b[0m \u001b[32m━━━━━━━━━━━━━━━━━━━━\u001b[0m\u001b[37m\u001b[0m \u001b[1m1s\u001b[0m 87ms/step - loss: 4.6780e-04 - val_loss: 3.5902e-04\n",
      "Epoch 39/60\n",
      "\u001b[1m11/11\u001b[0m \u001b[32m━━━━━━━━━━━━━━━━━━━━\u001b[0m\u001b[37m\u001b[0m \u001b[1m1s\u001b[0m 85ms/step - loss: 4.1542e-04 - val_loss: 2.5956e-04\n",
      "Epoch 40/60\n",
      "\u001b[1m11/11\u001b[0m \u001b[32m━━━━━━━━━━━━━━━━━━━━\u001b[0m\u001b[37m\u001b[0m \u001b[1m1s\u001b[0m 82ms/step - loss: 4.4083e-04 - val_loss: 3.4825e-04\n",
      "Epoch 41/60\n",
      "\u001b[1m11/11\u001b[0m \u001b[32m━━━━━━━━━━━━━━━━━━━━\u001b[0m\u001b[37m\u001b[0m \u001b[1m1s\u001b[0m 82ms/step - loss: 4.5018e-04 - val_loss: 2.6635e-04\n",
      "Epoch 42/60\n",
      "\u001b[1m11/11\u001b[0m \u001b[32m━━━━━━━━━━━━━━━━━━━━\u001b[0m\u001b[37m\u001b[0m \u001b[1m1s\u001b[0m 95ms/step - loss: 4.6112e-04 - val_loss: 2.7280e-04\n",
      "Epoch 43/60\n",
      "\u001b[1m11/11\u001b[0m \u001b[32m━━━━━━━━━━━━━━━━━━━━\u001b[0m\u001b[37m\u001b[0m \u001b[1m1s\u001b[0m 82ms/step - loss: 3.9775e-04 - val_loss: 2.4697e-04\n",
      "Epoch 44/60\n",
      "\u001b[1m11/11\u001b[0m \u001b[32m━━━━━━━━━━━━━━━━━━━━\u001b[0m\u001b[37m\u001b[0m \u001b[1m1s\u001b[0m 84ms/step - loss: 4.6716e-04 - val_loss: 3.5659e-04\n",
      "Epoch 45/60\n",
      "\u001b[1m11/11\u001b[0m \u001b[32m━━━━━━━━━━━━━━━━━━━━\u001b[0m\u001b[37m\u001b[0m \u001b[1m1s\u001b[0m 82ms/step - loss: 4.1612e-04 - val_loss: 2.5719e-04\n",
      "Epoch 46/60\n",
      "\u001b[1m11/11\u001b[0m \u001b[32m━━━━━━━━━━━━━━━━━━━━\u001b[0m\u001b[37m\u001b[0m \u001b[1m1s\u001b[0m 82ms/step - loss: 4.3950e-04 - val_loss: 2.3361e-04\n",
      "Epoch 47/60\n",
      "\u001b[1m11/11\u001b[0m \u001b[32m━━━━━━━━━━━━━━━━━━━━\u001b[0m\u001b[37m\u001b[0m \u001b[1m1s\u001b[0m 82ms/step - loss: 4.1800e-04 - val_loss: 2.5209e-04\n",
      "Epoch 48/60\n",
      "\u001b[1m11/11\u001b[0m \u001b[32m━━━━━━━━━━━━━━━━━━━━\u001b[0m\u001b[37m\u001b[0m \u001b[1m1s\u001b[0m 82ms/step - loss: 4.0177e-04 - val_loss: 2.9026e-04\n",
      "Epoch 49/60\n",
      "\u001b[1m11/11\u001b[0m \u001b[32m━━━━━━━━━━━━━━━━━━━━\u001b[0m\u001b[37m\u001b[0m \u001b[1m1s\u001b[0m 83ms/step - loss: 3.5224e-04 - val_loss: 2.8558e-04\n",
      "Epoch 50/60\n",
      "\u001b[1m11/11\u001b[0m \u001b[32m━━━━━━━━━━━━━━━━━━━━\u001b[0m\u001b[37m\u001b[0m \u001b[1m1s\u001b[0m 82ms/step - loss: 3.5607e-04 - val_loss: 2.8141e-04\n",
      "Epoch 51/60\n",
      "\u001b[1m11/11\u001b[0m \u001b[32m━━━━━━━━━━━━━━━━━━━━\u001b[0m\u001b[37m\u001b[0m \u001b[1m1s\u001b[0m 82ms/step - loss: 3.3398e-04 - val_loss: 2.5248e-04\n",
      "Epoch 52/60\n",
      "\u001b[1m11/11\u001b[0m \u001b[32m━━━━━━━━━━━━━━━━━━━━\u001b[0m\u001b[37m\u001b[0m \u001b[1m1s\u001b[0m 82ms/step - loss: 3.7385e-04 - val_loss: 2.1454e-04\n",
      "Epoch 53/60\n",
      "\u001b[1m11/11\u001b[0m \u001b[32m━━━━━━━━━━━━━━━━━━━━\u001b[0m\u001b[37m\u001b[0m \u001b[1m1s\u001b[0m 86ms/step - loss: 3.3910e-04 - val_loss: 2.5726e-04\n",
      "Epoch 54/60\n",
      "\u001b[1m11/11\u001b[0m \u001b[32m━━━━━━━━━━━━━━━━━━━━\u001b[0m\u001b[37m\u001b[0m \u001b[1m1s\u001b[0m 93ms/step - loss: 3.6442e-04 - val_loss: 2.2013e-04\n",
      "Epoch 55/60\n",
      "\u001b[1m11/11\u001b[0m \u001b[32m━━━━━━━━━━━━━━━━━━━━\u001b[0m\u001b[37m\u001b[0m \u001b[1m1s\u001b[0m 86ms/step - loss: 3.8892e-04 - val_loss: 2.0359e-04\n",
      "Epoch 56/60\n",
      "\u001b[1m11/11\u001b[0m \u001b[32m━━━━━━━━━━━━━━━━━━━━\u001b[0m\u001b[37m\u001b[0m \u001b[1m1s\u001b[0m 85ms/step - loss: 3.6257e-04 - val_loss: 2.7935e-04\n",
      "Epoch 57/60\n",
      "\u001b[1m11/11\u001b[0m \u001b[32m━━━━━━━━━━━━━━━━━━━━\u001b[0m\u001b[37m\u001b[0m \u001b[1m1s\u001b[0m 83ms/step - loss: 3.2007e-04 - val_loss: 2.2136e-04\n",
      "Epoch 58/60\n",
      "\u001b[1m11/11\u001b[0m \u001b[32m━━━━━━━━━━━━━━━━━━━━\u001b[0m\u001b[37m\u001b[0m \u001b[1m1s\u001b[0m 81ms/step - loss: 3.0179e-04 - val_loss: 1.9288e-04\n",
      "Epoch 59/60\n",
      "\u001b[1m11/11\u001b[0m \u001b[32m━━━━━━━━━━━━━━━━━━━━\u001b[0m\u001b[37m\u001b[0m \u001b[1m1s\u001b[0m 84ms/step - loss: 3.3114e-04 - val_loss: 1.9354e-04\n",
      "Epoch 60/60\n",
      "\u001b[1m11/11\u001b[0m \u001b[32m━━━━━━━━━━━━━━━━━━━━\u001b[0m\u001b[37m\u001b[0m \u001b[1m1s\u001b[0m 82ms/step - loss: 3.5783e-04 - val_loss: 2.5937e-04\n"
     ]
    },
    {
     "data": {
      "text/plain": [
       "<keras.src.callbacks.history.History at 0x1ecaf605fd0>"
      ]
     },
     "execution_count": 46,
     "metadata": {},
     "output_type": "execute_result"
    }
   ],
   "source": [
    "model.fit(x_train,y_train,validation_split=0.1,epochs=60,batch_size=64,verbose=1)"
   ]
  },
  {
   "cell_type": "code",
   "execution_count": 48,
   "id": "04367c8d-572e-407b-9b0d-62e60092738b",
   "metadata": {},
   "outputs": [
    {
     "name": "stdout",
     "output_type": "stream",
     "text": [
      "\u001b[1m24/24\u001b[0m \u001b[32m━━━━━━━━━━━━━━━━━━━━\u001b[0m\u001b[37m\u001b[0m \u001b[1m1s\u001b[0m 43ms/step\n",
      "\u001b[1m9/9\u001b[0m \u001b[32m━━━━━━━━━━━━━━━━━━━━\u001b[0m\u001b[37m\u001b[0m \u001b[1m0s\u001b[0m 21ms/step\n"
     ]
    }
   ],
   "source": [
    "train_predict= model.predict(x_train)\n",
    "test_predict = model.predict(x_test)"
   ]
  },
  {
   "cell_type": "code",
   "execution_count": 49,
   "id": "10b97c9a-57de-424b-8028-649d081a15a9",
   "metadata": {},
   "outputs": [],
   "source": [
    "train_predict = scaler.inverse_transform(train_predict)\n",
    "test_predict = scaler.inverse_transform(test_predict)"
   ]
  },
  {
   "cell_type": "code",
   "execution_count": 51,
   "id": "6d700729-6755-4dcd-aaad-ccc38bf0c3c0",
   "metadata": {},
   "outputs": [],
   "source": [
    "## CALCULATING THE PERFORMANCE\n",
    "import math\n",
    "from sklearn.metrics import mean_squared_error"
   ]
  },
  {
   "cell_type": "code",
   "execution_count": 52,
   "id": "e1f7a454-a4e2-447b-beb3-21f3ec748a54",
   "metadata": {},
   "outputs": [
    {
     "data": {
      "text/plain": [
       "139.66176963740486"
      ]
     },
     "execution_count": 52,
     "metadata": {},
     "output_type": "execute_result"
    }
   ],
   "source": [
    "math.sqrt(mean_squared_error(y_train,train_predict))"
   ]
  },
  {
   "cell_type": "code",
   "execution_count": 53,
   "id": "87299688-fe88-44db-a1c9-5f87350af0c4",
   "metadata": {},
   "outputs": [
    {
     "data": {
      "text/plain": [
       "246.5494793737099"
      ]
     },
     "execution_count": 53,
     "metadata": {},
     "output_type": "execute_result"
    }
   ],
   "source": [
    "math.sqrt(mean_squared_error(y_test,test_predict))"
   ]
  },
  {
   "cell_type": "code",
   "execution_count": 55,
   "id": "08952133-79f1-4bc6-b7e2-33989f2e8e97",
   "metadata": {},
   "outputs": [],
   "source": [
    "##Plotting the graph with predicted train data,test data with actual data "
   ]
  },
  {
   "cell_type": "code",
   "execution_count": 57,
   "id": "da76ec3b-4eff-4708-801e-6742ddd8e9b7",
   "metadata": {},
   "outputs": [
    {
     "data": {
      "image/png": "[encoded data removed]",
      "text/plain": [
       "<Figure size 1000x700 with 1 Axes>"
      ]
     },
     "metadata": {},
     "output_type": "display_data"
    }
   ],
   "source": [
    "look_back =100\n",
    "\n",
    "# shift train predictions for plotting \n",
    "trainPredictPlot = np.empty_like(close_srt)\n",
    "trainPredictPlot[:,:] = np.nan\n",
    "trainPredictPlot[look_back:len(train_predict)+look_back,:]=train_predict\n",
    "#shift test prediction for plotting\n",
    "testPredictPlot = np.empty_like(close_srt)\n",
    "\n",
    "testPredictPlot[:,:] = np.nan\n",
    "testPredictPlot[len(train_predict)+(look_back*2)+1:len(close_srt)-1,:]= test_predict\n",
    "#plot baseline and predictions\n",
    "plt.figure(figsize=(10,7))\n",
    "plt.plot(scaler.inverse_transform(close_srt))\n",
    "plt.plot(trainPredictPlot)\n",
    "plt.plot(testPredictPlot)\n",
    "plt.show()"
   ]
  },
  {
   "cell_type": "code",
   "execution_count": 58,
   "id": "2db745f4-cdfc-419c-94d1-3cb8bf5fb769",
   "metadata": {},
   "outputs": [
    {
     "data": {
      "text/plain": [
       "371"
      ]
     },
     "execution_count": 58,
     "metadata": {},
     "output_type": "execute_result"
    }
   ],
   "source": [
    "##Prediction for Next 30 Days\n",
    "len(test_data)"
   ]
  },
  {
   "cell_type": "code",
   "execution_count": 60,
   "id": "0b27c40a-792a-462d-9114-27f2bd2d9dd6",
   "metadata": {},
   "outputs": [
    {
     "data": {
      "text/plain": [
       "(1, 100)"
      ]
     },
     "execution_count": 60,
     "metadata": {},
     "output_type": "execute_result"
    }
   ],
   "source": [
    "pred_input = test_data[271:].reshape(1,-1)\n",
    "pred_input.shape"
   ]
  },
  {
   "cell_type": "code",
   "execution_count": 61,
   "id": "83cfcc88-ddc0-45cd-a197-fe173672d246",
   "metadata": {},
   "outputs": [],
   "source": [
    "temp_input=list(pred_input)\n",
    "temp_input=temp_input[0].tolist()"
   ]
  },
  {
   "cell_type": "code",
   "execution_count": 62,
   "id": "999b6d6d-8dc5-4f0d-8fee-abcf458edca5",
   "metadata": {},
   "outputs": [
    {
     "data": {
      "text/plain": [
       "[0.6275212909009413,\n",
       " 0.6205737337516808,\n",
       " 0.6492604213357238,\n",
       " 0.6367099955177049,\n",
       " 0.6315553563424474,\n",
       " 0.6476916181084715,\n",
       " 0.6613626176602418,\n",
       " 0.680636485880771,\n",
       " 0.6956521739130435,\n",
       " 0.7082025997310621,\n",
       " 0.694083370685791,\n",
       " 0.7254594352308381,\n",
       " 0.7465262214253696,\n",
       " 0.7198565665620797,\n",
       " 0.6839982070820259,\n",
       " 0.722097714029583,\n",
       " 0.7310623038995965,\n",
       " 0.7371134020618557,\n",
       " 0.7364410578216045,\n",
       " 0.7218735992828327,\n",
       " 0.739354549529359,\n",
       " 0.7483191393993724,\n",
       " 0.7850739578664276,\n",
       " 0.7597489914836395,\n",
       " 0.7740923352756612,\n",
       " 0.7368892873151054,\n",
       " 0.7090990587180637,\n",
       " 0.6972209771402957,\n",
       " 0.714701927386822,\n",
       " 0.7254594352308381,\n",
       " 0.7382339757956073,\n",
       " 0.7303899596593455,\n",
       " 0.7229941730165843,\n",
       " 0.7471985656656208,\n",
       " 0.7252353204840878,\n",
       " 0.7994173016584492,\n",
       " 0.7828328103989242,\n",
       " 0.7557149260421334,\n",
       " 0.7335275661138503,\n",
       " 0.7736441057821604,\n",
       " 0.7714029583146571,\n",
       " 0.7492155983863737,\n",
       " 0.7285970416853427,\n",
       " 0.7003585835948003,\n",
       " 0.6302106678619452,\n",
       " 0.6510533393097264,\n",
       " 0.6095921111609144,\n",
       " 0.5847153742716269,\n",
       " 0.6093679964141641,\n",
       " 0.6304347826086956,\n",
       " 0.6438816674137158,\n",
       " 0.6017480950246525,\n",
       " 0.6116091438816673,\n",
       " 0.6257283729269385,\n",
       " 0.6255042581801882,\n",
       " 0.6465710443747199,\n",
       " 0.5961452263558942,\n",
       " 0.5952487673688927,\n",
       " 0.5916629314208874,\n",
       " 0.6134020618556699,\n",
       " 0.6048857014791573,\n",
       " 0.5992828328103987,\n",
       " 0.6035410129986554,\n",
       " 0.58673240699238,\n",
       " 0.5912147019273868,\n",
       " 0.604661586732407,\n",
       " 0.612729717615419,\n",
       " 0.6290900941281936,\n",
       " 0.6387270282384581,\n",
       " 0.6181084715374272,\n",
       " 0.5952487673688927,\n",
       " 0.5753025549081128,\n",
       " 0.6024204392649035,\n",
       " 0.5858359480053787,\n",
       " 0.5912147019273868,\n",
       " 0.5977140295831465,\n",
       " 0.5900941281936352,\n",
       " 0.6008516360376512,\n",
       " 0.5425818018825637,\n",
       " 0.5367548184670552,\n",
       " 0.5307037203047962,\n",
       " 0.5392200806813088,\n",
       " 0.5349619004930524,\n",
       " 0.5080681308830122,\n",
       " 0.5378753922008068,\n",
       " 0.5885253249663827,\n",
       " 0.6004034065441506,\n",
       " 0.5934558493948903,\n",
       " 0.5927835051546391,\n",
       " 0.5914388166741371,\n",
       " 0.5856118332586284,\n",
       " 0.5981622590766471,\n",
       " 0.5898700134468848,\n",
       " 0.5853877185118781,\n",
       " 0.5876288659793814,\n",
       " 0.5748543254146121,\n",
       " 0.56006275212909,\n",
       " 0.5179291797400267,\n",
       " 0.47758852532496626,\n",
       " 0.5042581801882564]"
      ]
     },
     "execution_count": 62,
     "metadata": {},
     "output_type": "execute_result"
    }
   ],
   "source": [
    "temp_input"
   ]
  },
  {
   "cell_type": "code",
   "execution_count": 64,
   "id": "8763fd3a-352a-4a5b-b191-57158fce5e71",
   "metadata": {},
   "outputs": [
    {
     "name": "stdout",
     "output_type": "stream",
     "text": [
      "[0.46539265]\n",
      "101\n",
      "1 day input [0.62057373 0.64926042 0.63671    0.63155536 0.64769162 0.66136262\n",
      " 0.68063649 0.69565217 0.7082026  0.69408337 0.72545944 0.74652622\n",
      " 0.71985657 0.68399821 0.72209771 0.7310623  0.7371134  0.73644106\n",
      " 0.7218736  0.73935455 0.74831914 0.78507396 0.75974899 0.77409234\n",
      " 0.73688929 0.70909906 0.69722098 0.71470193 0.72545944 0.73823398\n",
      " 0.73038996 0.72299417 0.74719857 0.72523532 0.7994173  0.78283281\n",
      " 0.75571493 0.73352757 0.77364411 0.77140296 0.7492156  0.72859704\n",
      " 0.70035858 0.63021067 0.65105334 0.60959211 0.58471537 0.609368\n",
      " 0.63043478 0.64388167 0.6017481  0.61160914 0.62572837 0.62550426\n",
      " 0.64657104 0.59614523 0.59524877 0.59166293 0.61340206 0.6048857\n",
      " 0.59928283 0.60354101 0.58673241 0.5912147  0.60466159 0.61272972\n",
      " 0.62909009 0.63872703 0.61810847 0.59524877 0.57530255 0.60242044\n",
      " 0.58583595 0.5912147  0.59771403 0.59009413 0.60085164 0.5425818\n",
      " 0.53675482 0.53070372 0.53922008 0.5349619  0.50806813 0.53787539\n",
      " 0.58852532 0.60040341 0.59345585 0.59278351 0.59143882 0.58561183\n",
      " 0.59816226 0.58987001 0.58538772 0.58762887 0.57485433 0.56006275\n",
      " 0.51792918 0.47758853 0.50425818 0.46539265]\n",
      "1 day output [[0.4499087]]\n",
      "2 day input [0.64926042 0.63671    0.63155536 0.64769162 0.66136262 0.68063649\n",
      " 0.69565217 0.7082026  0.69408337 0.72545944 0.74652622 0.71985657\n",
      " 0.68399821 0.72209771 0.7310623  0.7371134  0.73644106 0.7218736\n",
      " 0.73935455 0.74831914 0.78507396 0.75974899 0.77409234 0.73688929\n",
      " 0.70909906 0.69722098 0.71470193 0.72545944 0.73823398 0.73038996\n",
      " 0.72299417 0.74719857 0.72523532 0.7994173  0.78283281 0.75571493\n",
      " 0.73352757 0.77364411 0.77140296 0.7492156  0.72859704 0.70035858\n",
      " 0.63021067 0.65105334 0.60959211 0.58471537 0.609368   0.63043478\n",
      " 0.64388167 0.6017481  0.61160914 0.62572837 0.62550426 0.64657104\n",
      " 0.59614523 0.59524877 0.59166293 0.61340206 0.6048857  0.59928283\n",
      " 0.60354101 0.58673241 0.5912147  0.60466159 0.61272972 0.62909009\n",
      " 0.63872703 0.61810847 0.59524877 0.57530255 0.60242044 0.58583595\n",
      " 0.5912147  0.59771403 0.59009413 0.60085164 0.5425818  0.53675482\n",
      " 0.53070372 0.53922008 0.5349619  0.50806813 0.53787539 0.58852532\n",
      " 0.60040341 0.59345585 0.59278351 0.59143882 0.58561183 0.59816226\n",
      " 0.58987001 0.58538772 0.58762887 0.57485433 0.56006275 0.51792918\n",
      " 0.47758853 0.50425818 0.46539265 0.4499087 ]\n",
      "2 day output [[0.43671483]]\n",
      "3 day input [0.63671    0.63155536 0.64769162 0.66136262 0.68063649 0.69565217\n",
      " 0.7082026  0.69408337 0.72545944 0.74652622 0.71985657 0.68399821\n",
      " 0.72209771 0.7310623  0.7371134  0.73644106 0.7218736  0.73935455\n",
      " 0.74831914 0.78507396 0.75974899 0.77409234 0.73688929 0.70909906\n",
      " 0.69722098 0.71470193 0.72545944 0.73823398 0.73038996 0.72299417\n",
      " 0.74719857 0.72523532 0.7994173  0.78283281 0.75571493 0.73352757\n",
      " 0.77364411 0.77140296 0.7492156  0.72859704 0.70035858 0.63021067\n",
      " 0.65105334 0.60959211 0.58471537 0.609368   0.63043478 0.64388167\n",
      " 0.6017481  0.61160914 0.62572837 0.62550426 0.64657104 0.59614523\n",
      " 0.59524877 0.59166293 0.61340206 0.6048857  0.59928283 0.60354101\n",
      " 0.58673241 0.5912147  0.60466159 0.61272972 0.62909009 0.63872703\n",
      " 0.61810847 0.59524877 0.57530255 0.60242044 0.58583595 0.5912147\n",
      " 0.59771403 0.59009413 0.60085164 0.5425818  0.53675482 0.53070372\n",
      " 0.53922008 0.5349619  0.50806813 0.53787539 0.58852532 0.60040341\n",
      " 0.59345585 0.59278351 0.59143882 0.58561183 0.59816226 0.58987001\n",
      " 0.58538772 0.58762887 0.57485433 0.56006275 0.51792918 0.47758853\n",
      " 0.50425818 0.46539265 0.4499087  0.43671483]\n",
      "3 day output [[0.42556918]]\n",
      "4 day input [0.63155536 0.64769162 0.66136262 0.68063649 0.69565217 0.7082026\n",
      " 0.69408337 0.72545944 0.74652622 0.71985657 0.68399821 0.72209771\n",
      " 0.7310623  0.7371134  0.73644106 0.7218736  0.73935455 0.74831914\n",
      " 0.78507396 0.75974899 0.77409234 0.73688929 0.70909906 0.69722098\n",
      " 0.71470193 0.72545944 0.73823398 0.73038996 0.72299417 0.74719857\n",
      " 0.72523532 0.7994173  0.78283281 0.75571493 0.73352757 0.77364411\n",
      " 0.77140296 0.7492156  0.72859704 0.70035858 0.63021067 0.65105334\n",
      " 0.60959211 0.58471537 0.609368   0.63043478 0.64388167 0.6017481\n",
      " 0.61160914 0.62572837 0.62550426 0.64657104 0.59614523 0.59524877\n",
      " 0.59166293 0.61340206 0.6048857  0.59928283 0.60354101 0.58673241\n",
      " 0.5912147  0.60466159 0.61272972 0.62909009 0.63872703 0.61810847\n",
      " 0.59524877 0.57530255 0.60242044 0.58583595 0.5912147  0.59771403\n",
      " 0.59009413 0.60085164 0.5425818  0.53675482 0.53070372 0.53922008\n",
      " 0.5349619  0.50806813 0.53787539 0.58852532 0.60040341 0.59345585\n",
      " 0.59278351 0.59143882 0.58561183 0.59816226 0.58987001 0.58538772\n",
      " 0.58762887 0.57485433 0.56006275 0.51792918 0.47758853 0.50425818\n",
      " 0.46539265 0.4499087  0.43671483 0.42556918]\n",
      "4 day output [[0.41637605]]\n",
      "5 day input [0.64769162 0.66136262 0.68063649 0.69565217 0.7082026  0.69408337\n",
      " 0.72545944 0.74652622 0.71985657 0.68399821 0.72209771 0.7310623\n",
      " 0.7371134  0.73644106 0.7218736  0.73935455 0.74831914 0.78507396\n",
      " 0.75974899 0.77409234 0.73688929 0.70909906 0.69722098 0.71470193\n",
      " 0.72545944 0.73823398 0.73038996 0.72299417 0.74719857 0.72523532\n",
      " 0.7994173  0.78283281 0.75571493 0.73352757 0.77364411 0.77140296\n",
      " 0.7492156  0.72859704 0.70035858 0.63021067 0.65105334 0.60959211\n",
      " 0.58471537 0.609368   0.63043478 0.64388167 0.6017481  0.61160914\n",
      " 0.62572837 0.62550426 0.64657104 0.59614523 0.59524877 0.59166293\n",
      " 0.61340206 0.6048857  0.59928283 0.60354101 0.58673241 0.5912147\n",
      " 0.60466159 0.61272972 0.62909009 0.63872703 0.61810847 0.59524877\n",
      " 0.57530255 0.60242044 0.58583595 0.5912147  0.59771403 0.59009413\n",
      " 0.60085164 0.5425818  0.53675482 0.53070372 0.53922008 0.5349619\n",
      " 0.50806813 0.53787539 0.58852532 0.60040341 0.59345585 0.59278351\n",
      " 0.59143882 0.58561183 0.59816226 0.58987001 0.58538772 0.58762887\n",
      " 0.57485433 0.56006275 0.51792918 0.47758853 0.50425818 0.46539265\n",
      " 0.4499087  0.43671483 0.42556918 0.41637605]\n",
      "5 day output [[0.40895534]]\n",
      "6 day input [0.66136262 0.68063649 0.69565217 0.7082026  0.69408337 0.72545944\n",
      " 0.74652622 0.71985657 0.68399821 0.72209771 0.7310623  0.7371134\n",
      " 0.73644106 0.7218736  0.73935455 0.74831914 0.78507396 0.75974899\n",
      " 0.77409234 0.73688929 0.70909906 0.69722098 0.71470193 0.72545944\n",
      " 0.73823398 0.73038996 0.72299417 0.74719857 0.72523532 0.7994173\n",
      " 0.78283281 0.75571493 0.73352757 0.77364411 0.77140296 0.7492156\n",
      " 0.72859704 0.70035858 0.63021067 0.65105334 0.60959211 0.58471537\n",
      " 0.609368   0.63043478 0.64388167 0.6017481  0.61160914 0.62572837\n",
      " 0.62550426 0.64657104 0.59614523 0.59524877 0.59166293 0.61340206\n",
      " 0.6048857  0.59928283 0.60354101 0.58673241 0.5912147  0.60466159\n",
      " 0.61272972 0.62909009 0.63872703 0.61810847 0.59524877 0.57530255\n",
      " 0.60242044 0.58583595 0.5912147  0.59771403 0.59009413 0.60085164\n",
      " 0.5425818  0.53675482 0.53070372 0.53922008 0.5349619  0.50806813\n",
      " 0.53787539 0.58852532 0.60040341 0.59345585 0.59278351 0.59143882\n",
      " 0.58561183 0.59816226 0.58987001 0.58538772 0.58762887 0.57485433\n",
      " 0.56006275 0.51792918 0.47758853 0.50425818 0.46539265 0.4499087\n",
      " 0.43671483 0.42556918 0.41637605 0.40895534]\n",
      "6 day output [[0.40302858]]\n",
      "7 day input [0.68063649 0.69565217 0.7082026  0.69408337 0.72545944 0.74652622\n",
      " 0.71985657 0.68399821 0.72209771 0.7310623  0.7371134  0.73644106\n",
      " 0.7218736  0.73935455 0.74831914 0.78507396 0.75974899 0.77409234\n",
      " 0.73688929 0.70909906 0.69722098 0.71470193 0.72545944 0.73823398\n",
      " 0.73038996 0.72299417 0.74719857 0.72523532 0.7994173  0.78283281\n",
      " 0.75571493 0.73352757 0.77364411 0.77140296 0.7492156  0.72859704\n",
      " 0.70035858 0.63021067 0.65105334 0.60959211 0.58471537 0.609368\n",
      " 0.63043478 0.64388167 0.6017481  0.61160914 0.62572837 0.62550426\n",
      " 0.64657104 0.59614523 0.59524877 0.59166293 0.61340206 0.6048857\n",
      " 0.59928283 0.60354101 0.58673241 0.5912147  0.60466159 0.61272972\n",
      " 0.62909009 0.63872703 0.61810847 0.59524877 0.57530255 0.60242044\n",
      " 0.58583595 0.5912147  0.59771403 0.59009413 0.60085164 0.5425818\n",
      " 0.53675482 0.53070372 0.53922008 0.5349619  0.50806813 0.53787539\n",
      " 0.58852532 0.60040341 0.59345585 0.59278351 0.59143882 0.58561183\n",
      " 0.59816226 0.58987001 0.58538772 0.58762887 0.57485433 0.56006275\n",
      " 0.51792918 0.47758853 0.50425818 0.46539265 0.4499087  0.43671483\n",
      " 0.42556918 0.41637605 0.40895534 0.40302858]\n",
      "7 day output [[0.3982651]]\n",
      "8 day input [0.69565217 0.7082026  0.69408337 0.72545944 0.74652622 0.71985657\n",
      " 0.68399821 0.72209771 0.7310623  0.7371134  0.73644106 0.7218736\n",
      " 0.73935455 0.74831914 0.78507396 0.75974899 0.77409234 0.73688929\n",
      " 0.70909906 0.69722098 0.71470193 0.72545944 0.73823398 0.73038996\n",
      " 0.72299417 0.74719857 0.72523532 0.7994173  0.78283281 0.75571493\n",
      " 0.73352757 0.77364411 0.77140296 0.7492156  0.72859704 0.70035858\n",
      " 0.63021067 0.65105334 0.60959211 0.58471537 0.609368   0.63043478\n",
      " 0.64388167 0.6017481  0.61160914 0.62572837 0.62550426 0.64657104\n",
      " 0.59614523 0.59524877 0.59166293 0.61340206 0.6048857  0.59928283\n",
      " 0.60354101 0.58673241 0.5912147  0.60466159 0.61272972 0.62909009\n",
      " 0.63872703 0.61810847 0.59524877 0.57530255 0.60242044 0.58583595\n",
      " 0.5912147  0.59771403 0.59009413 0.60085164 0.5425818  0.53675482\n",
      " 0.53070372 0.53922008 0.5349619  0.50806813 0.53787539 0.58852532\n",
      " 0.60040341 0.59345585 0.59278351 0.59143882 0.58561183 0.59816226\n",
      " 0.58987001 0.58538772 0.58762887 0.57485433 0.56006275 0.51792918\n",
      " 0.47758853 0.50425818 0.46539265 0.4499087  0.43671483 0.42556918\n",
      " 0.41637605 0.40895534 0.40302858 0.39826509]\n",
      "8 day output [[0.39432782]]\n",
      "9 day input [0.7082026  0.69408337 0.72545944 0.74652622 0.71985657 0.68399821\n",
      " 0.72209771 0.7310623  0.7371134  0.73644106 0.7218736  0.73935455\n",
      " 0.74831914 0.78507396 0.75974899 0.77409234 0.73688929 0.70909906\n",
      " 0.69722098 0.71470193 0.72545944 0.73823398 0.73038996 0.72299417\n",
      " 0.74719857 0.72523532 0.7994173  0.78283281 0.75571493 0.73352757\n",
      " 0.77364411 0.77140296 0.7492156  0.72859704 0.70035858 0.63021067\n",
      " 0.65105334 0.60959211 0.58471537 0.609368   0.63043478 0.64388167\n",
      " 0.6017481  0.61160914 0.62572837 0.62550426 0.64657104 0.59614523\n",
      " 0.59524877 0.59166293 0.61340206 0.6048857  0.59928283 0.60354101\n",
      " 0.58673241 0.5912147  0.60466159 0.61272972 0.62909009 0.63872703\n",
      " 0.61810847 0.59524877 0.57530255 0.60242044 0.58583595 0.5912147\n",
      " 0.59771403 0.59009413 0.60085164 0.5425818  0.53675482 0.53070372\n",
      " 0.53922008 0.5349619  0.50806813 0.53787539 0.58852532 0.60040341\n",
      " 0.59345585 0.59278351 0.59143882 0.58561183 0.59816226 0.58987001\n",
      " 0.58538772 0.58762887 0.57485433 0.56006275 0.51792918 0.47758853\n",
      " 0.50425818 0.46539265 0.4499087  0.43671483 0.42556918 0.41637605\n",
      " 0.40895534 0.40302858 0.39826509 0.39432782]\n",
      "9 day output [[0.3909043]]\n",
      "10 day input [0.69408337 0.72545944 0.74652622 0.71985657 0.68399821 0.72209771\n",
      " 0.7310623  0.7371134  0.73644106 0.7218736  0.73935455 0.74831914\n",
      " 0.78507396 0.75974899 0.77409234 0.73688929 0.70909906 0.69722098\n",
      " 0.71470193 0.72545944 0.73823398 0.73038996 0.72299417 0.74719857\n",
      " 0.72523532 0.7994173  0.78283281 0.75571493 0.73352757 0.77364411\n",
      " 0.77140296 0.7492156  0.72859704 0.70035858 0.63021067 0.65105334\n",
      " 0.60959211 0.58471537 0.609368   0.63043478 0.64388167 0.6017481\n",
      " 0.61160914 0.62572837 0.62550426 0.64657104 0.59614523 0.59524877\n",
      " 0.59166293 0.61340206 0.6048857  0.59928283 0.60354101 0.58673241\n",
      " 0.5912147  0.60466159 0.61272972 0.62909009 0.63872703 0.61810847\n",
      " 0.59524877 0.57530255 0.60242044 0.58583595 0.5912147  0.59771403\n",
      " 0.59009413 0.60085164 0.5425818  0.53675482 0.53070372 0.53922008\n",
      " 0.5349619  0.50806813 0.53787539 0.58852532 0.60040341 0.59345585\n",
      " 0.59278351 0.59143882 0.58561183 0.59816226 0.58987001 0.58538772\n",
      " 0.58762887 0.57485433 0.56006275 0.51792918 0.47758853 0.50425818\n",
      " 0.46539265 0.4499087  0.43671483 0.42556918 0.41637605 0.40895534\n",
      " 0.40302858 0.39826509 0.39432782 0.39090431]\n",
      "10 day output [[0.38772437]]\n",
      "11 day input [0.72545944 0.74652622 0.71985657 0.68399821 0.72209771 0.7310623\n",
      " 0.7371134  0.73644106 0.7218736  0.73935455 0.74831914 0.78507396\n",
      " 0.75974899 0.77409234 0.73688929 0.70909906 0.69722098 0.71470193\n",
      " 0.72545944 0.73823398 0.73038996 0.72299417 0.74719857 0.72523532\n",
      " 0.7994173  0.78283281 0.75571493 0.73352757 0.77364411 0.77140296\n",
      " 0.7492156  0.72859704 0.70035858 0.63021067 0.65105334 0.60959211\n",
      " 0.58471537 0.609368   0.63043478 0.64388167 0.6017481  0.61160914\n",
      " 0.62572837 0.62550426 0.64657104 0.59614523 0.59524877 0.59166293\n",
      " 0.61340206 0.6048857  0.59928283 0.60354101 0.58673241 0.5912147\n",
      " 0.60466159 0.61272972 0.62909009 0.63872703 0.61810847 0.59524877\n",
      " 0.57530255 0.60242044 0.58583595 0.5912147  0.59771403 0.59009413\n",
      " 0.60085164 0.5425818  0.53675482 0.53070372 0.53922008 0.5349619\n",
      " 0.50806813 0.53787539 0.58852532 0.60040341 0.59345585 0.59278351\n",
      " 0.59143882 0.58561183 0.59816226 0.58987001 0.58538772 0.58762887\n",
      " 0.57485433 0.56006275 0.51792918 0.47758853 0.50425818 0.46539265\n",
      " 0.4499087  0.43671483 0.42556918 0.41637605 0.40895534 0.40302858\n",
      " 0.39826509 0.39432782 0.39090431 0.38772437]\n",
      "11 day output [[0.3845701]]\n",
      "12 day input [0.74652622 0.71985657 0.68399821 0.72209771 0.7310623  0.7371134\n",
      " 0.73644106 0.7218736  0.73935455 0.74831914 0.78507396 0.75974899\n",
      " 0.77409234 0.73688929 0.70909906 0.69722098 0.71470193 0.72545944\n",
      " 0.73823398 0.73038996 0.72299417 0.74719857 0.72523532 0.7994173\n",
      " 0.78283281 0.75571493 0.73352757 0.77364411 0.77140296 0.7492156\n",
      " 0.72859704 0.70035858 0.63021067 0.65105334 0.60959211 0.58471537\n",
      " 0.609368   0.63043478 0.64388167 0.6017481  0.61160914 0.62572837\n",
      " 0.62550426 0.64657104 0.59614523 0.59524877 0.59166293 0.61340206\n",
      " 0.6048857  0.59928283 0.60354101 0.58673241 0.5912147  0.60466159\n",
      " 0.61272972 0.62909009 0.63872703 0.61810847 0.59524877 0.57530255\n",
      " 0.60242044 0.58583595 0.5912147  0.59771403 0.59009413 0.60085164\n",
      " 0.5425818  0.53675482 0.53070372 0.53922008 0.5349619  0.50806813\n",
      " 0.53787539 0.58852532 0.60040341 0.59345585 0.59278351 0.59143882\n",
      " 0.58561183 0.59816226 0.58987001 0.58538772 0.58762887 0.57485433\n",
      " 0.56006275 0.51792918 0.47758853 0.50425818 0.46539265 0.4499087\n",
      " 0.43671483 0.42556918 0.41637605 0.40895534 0.40302858 0.39826509\n",
      " 0.39432782 0.39090431 0.38772437 0.38457009]\n",
      "12 day output [[0.38127813]]\n",
      "13 day input [0.71985657 0.68399821 0.72209771 0.7310623  0.7371134  0.73644106\n",
      " 0.7218736  0.73935455 0.74831914 0.78507396 0.75974899 0.77409234\n",
      " 0.73688929 0.70909906 0.69722098 0.71470193 0.72545944 0.73823398\n",
      " 0.73038996 0.72299417 0.74719857 0.72523532 0.7994173  0.78283281\n",
      " 0.75571493 0.73352757 0.77364411 0.77140296 0.7492156  0.72859704\n",
      " 0.70035858 0.63021067 0.65105334 0.60959211 0.58471537 0.609368\n",
      " 0.63043478 0.64388167 0.6017481  0.61160914 0.62572837 0.62550426\n",
      " 0.64657104 0.59614523 0.59524877 0.59166293 0.61340206 0.6048857\n",
      " 0.59928283 0.60354101 0.58673241 0.5912147  0.60466159 0.61272972\n",
      " 0.62909009 0.63872703 0.61810847 0.59524877 0.57530255 0.60242044\n",
      " 0.58583595 0.5912147  0.59771403 0.59009413 0.60085164 0.5425818\n",
      " 0.53675482 0.53070372 0.53922008 0.5349619  0.50806813 0.53787539\n",
      " 0.58852532 0.60040341 0.59345585 0.59278351 0.59143882 0.58561183\n",
      " 0.59816226 0.58987001 0.58538772 0.58762887 0.57485433 0.56006275\n",
      " 0.51792918 0.47758853 0.50425818 0.46539265 0.4499087  0.43671483\n",
      " 0.42556918 0.41637605 0.40895534 0.40302858 0.39826509 0.39432782\n",
      " 0.39090431 0.38772437 0.38457009 0.38127813]\n",
      "13 day output [[0.3777391]]\n",
      "14 day input [0.68399821 0.72209771 0.7310623  0.7371134  0.73644106 0.7218736\n",
      " 0.73935455 0.74831914 0.78507396 0.75974899 0.77409234 0.73688929\n",
      " 0.70909906 0.69722098 0.71470193 0.72545944 0.73823398 0.73038996\n",
      " 0.72299417 0.74719857 0.72523532 0.7994173  0.78283281 0.75571493\n",
      " 0.73352757 0.77364411 0.77140296 0.7492156  0.72859704 0.70035858\n",
      " 0.63021067 0.65105334 0.60959211 0.58471537 0.609368   0.63043478\n",
      " 0.64388167 0.6017481  0.61160914 0.62572837 0.62550426 0.64657104\n",
      " 0.59614523 0.59524877 0.59166293 0.61340206 0.6048857  0.59928283\n",
      " 0.60354101 0.58673241 0.5912147  0.60466159 0.61272972 0.62909009\n",
      " 0.63872703 0.61810847 0.59524877 0.57530255 0.60242044 0.58583595\n",
      " 0.5912147  0.59771403 0.59009413 0.60085164 0.5425818  0.53675482\n",
      " 0.53070372 0.53922008 0.5349619  0.50806813 0.53787539 0.58852532\n",
      " 0.60040341 0.59345585 0.59278351 0.59143882 0.58561183 0.59816226\n",
      " 0.58987001 0.58538772 0.58762887 0.57485433 0.56006275 0.51792918\n",
      " 0.47758853 0.50425818 0.46539265 0.4499087  0.43671483 0.42556918\n",
      " 0.41637605 0.40895534 0.40302858 0.39826509 0.39432782 0.39090431\n",
      " 0.38772437 0.38457009 0.38127813 0.3777391 ]\n",
      "14 day output [[0.37389287]]\n",
      "15 day input [0.72209771 0.7310623  0.7371134  0.73644106 0.7218736  0.73935455\n",
      " 0.74831914 0.78507396 0.75974899 0.77409234 0.73688929 0.70909906\n",
      " 0.69722098 0.71470193 0.72545944 0.73823398 0.73038996 0.72299417\n",
      " 0.74719857 0.72523532 0.7994173  0.78283281 0.75571493 0.73352757\n",
      " 0.77364411 0.77140296 0.7492156  0.72859704 0.70035858 0.63021067\n",
      " 0.65105334 0.60959211 0.58471537 0.609368   0.63043478 0.64388167\n",
      " 0.6017481  0.61160914 0.62572837 0.62550426 0.64657104 0.59614523\n",
      " 0.59524877 0.59166293 0.61340206 0.6048857  0.59928283 0.60354101\n",
      " 0.58673241 0.5912147  0.60466159 0.61272972 0.62909009 0.63872703\n",
      " 0.61810847 0.59524877 0.57530255 0.60242044 0.58583595 0.5912147\n",
      " 0.59771403 0.59009413 0.60085164 0.5425818  0.53675482 0.53070372\n",
      " 0.53922008 0.5349619  0.50806813 0.53787539 0.58852532 0.60040341\n",
      " 0.59345585 0.59278351 0.59143882 0.58561183 0.59816226 0.58987001\n",
      " 0.58538772 0.58762887 0.57485433 0.56006275 0.51792918 0.47758853\n",
      " 0.50425818 0.46539265 0.4499087  0.43671483 0.42556918 0.41637605\n",
      " 0.40895534 0.40302858 0.39826509 0.39432782 0.39090431 0.38772437\n",
      " 0.38457009 0.38127813 0.3777391  0.37389287]\n",
      "15 day output [[0.3697222]]\n",
      "16 day input [0.7310623  0.7371134  0.73644106 0.7218736  0.73935455 0.74831914\n",
      " 0.78507396 0.75974899 0.77409234 0.73688929 0.70909906 0.69722098\n",
      " 0.71470193 0.72545944 0.73823398 0.73038996 0.72299417 0.74719857\n",
      " 0.72523532 0.7994173  0.78283281 0.75571493 0.73352757 0.77364411\n",
      " 0.77140296 0.7492156  0.72859704 0.70035858 0.63021067 0.65105334\n",
      " 0.60959211 0.58471537 0.609368   0.63043478 0.64388167 0.6017481\n",
      " 0.61160914 0.62572837 0.62550426 0.64657104 0.59614523 0.59524877\n",
      " 0.59166293 0.61340206 0.6048857  0.59928283 0.60354101 0.58673241\n",
      " 0.5912147  0.60466159 0.61272972 0.62909009 0.63872703 0.61810847\n",
      " 0.59524877 0.57530255 0.60242044 0.58583595 0.5912147  0.59771403\n",
      " 0.59009413 0.60085164 0.5425818  0.53675482 0.53070372 0.53922008\n",
      " 0.5349619  0.50806813 0.53787539 0.58852532 0.60040341 0.59345585\n",
      " 0.59278351 0.59143882 0.58561183 0.59816226 0.58987001 0.58538772\n",
      " 0.58762887 0.57485433 0.56006275 0.51792918 0.47758853 0.50425818\n",
      " 0.46539265 0.4499087  0.43671483 0.42556918 0.41637605 0.40895534\n",
      " 0.40302858 0.39826509 0.39432782 0.39090431 0.38772437 0.38457009\n",
      " 0.38127813 0.3777391  0.37389287 0.36972219]\n",
      "16 day output [[0.365244]]\n",
      "17 day input [0.7371134  0.73644106 0.7218736  0.73935455 0.74831914 0.78507396\n",
      " 0.75974899 0.77409234 0.73688929 0.70909906 0.69722098 0.71470193\n",
      " 0.72545944 0.73823398 0.73038996 0.72299417 0.74719857 0.72523532\n",
      " 0.7994173  0.78283281 0.75571493 0.73352757 0.77364411 0.77140296\n",
      " 0.7492156  0.72859704 0.70035858 0.63021067 0.65105334 0.60959211\n",
      " 0.58471537 0.609368   0.63043478 0.64388167 0.6017481  0.61160914\n",
      " 0.62572837 0.62550426 0.64657104 0.59614523 0.59524877 0.59166293\n",
      " 0.61340206 0.6048857  0.59928283 0.60354101 0.58673241 0.5912147\n",
      " 0.60466159 0.61272972 0.62909009 0.63872703 0.61810847 0.59524877\n",
      " 0.57530255 0.60242044 0.58583595 0.5912147  0.59771403 0.59009413\n",
      " 0.60085164 0.5425818  0.53675482 0.53070372 0.53922008 0.5349619\n",
      " 0.50806813 0.53787539 0.58852532 0.60040341 0.59345585 0.59278351\n",
      " 0.59143882 0.58561183 0.59816226 0.58987001 0.58538772 0.58762887\n",
      " 0.57485433 0.56006275 0.51792918 0.47758853 0.50425818 0.46539265\n",
      " 0.4499087  0.43671483 0.42556918 0.41637605 0.40895534 0.40302858\n",
      " 0.39826509 0.39432782 0.39090431 0.38772437 0.38457009 0.38127813\n",
      " 0.3777391  0.37389287 0.36972219 0.365244  ]\n",
      "17 day output [[0.36050072]]\n",
      "18 day input [0.73644106 0.7218736  0.73935455 0.74831914 0.78507396 0.75974899\n",
      " 0.77409234 0.73688929 0.70909906 0.69722098 0.71470193 0.72545944\n",
      " 0.73823398 0.73038996 0.72299417 0.74719857 0.72523532 0.7994173\n",
      " 0.78283281 0.75571493 0.73352757 0.77364411 0.77140296 0.7492156\n",
      " 0.72859704 0.70035858 0.63021067 0.65105334 0.60959211 0.58471537\n",
      " 0.609368   0.63043478 0.64388167 0.6017481  0.61160914 0.62572837\n",
      " 0.62550426 0.64657104 0.59614523 0.59524877 0.59166293 0.61340206\n",
      " 0.6048857  0.59928283 0.60354101 0.58673241 0.5912147  0.60466159\n",
      " 0.61272972 0.62909009 0.63872703 0.61810847 0.59524877 0.57530255\n",
      " 0.60242044 0.58583595 0.5912147  0.59771403 0.59009413 0.60085164\n",
      " 0.5425818  0.53675482 0.53070372 0.53922008 0.5349619  0.50806813\n",
      " 0.53787539 0.58852532 0.60040341 0.59345585 0.59278351 0.59143882\n",
      " 0.58561183 0.59816226 0.58987001 0.58538772 0.58762887 0.57485433\n",
      " 0.56006275 0.51792918 0.47758853 0.50425818 0.46539265 0.4499087\n",
      " 0.43671483 0.42556918 0.41637605 0.40895534 0.40302858 0.39826509\n",
      " 0.39432782 0.39090431 0.38772437 0.38457009 0.38127813 0.3777391\n",
      " 0.37389287 0.36972219 0.365244   0.36050072]\n",
      "18 day output [[0.3555516]]\n",
      "19 day input [0.7218736  0.73935455 0.74831914 0.78507396 0.75974899 0.77409234\n",
      " 0.73688929 0.70909906 0.69722098 0.71470193 0.72545944 0.73823398\n",
      " 0.73038996 0.72299417 0.74719857 0.72523532 0.7994173  0.78283281\n",
      " 0.75571493 0.73352757 0.77364411 0.77140296 0.7492156  0.72859704\n",
      " 0.70035858 0.63021067 0.65105334 0.60959211 0.58471537 0.609368\n",
      " 0.63043478 0.64388167 0.6017481  0.61160914 0.62572837 0.62550426\n",
      " 0.64657104 0.59614523 0.59524877 0.59166293 0.61340206 0.6048857\n",
      " 0.59928283 0.60354101 0.58673241 0.5912147  0.60466159 0.61272972\n",
      " 0.62909009 0.63872703 0.61810847 0.59524877 0.57530255 0.60242044\n",
      " 0.58583595 0.5912147  0.59771403 0.59009413 0.60085164 0.5425818\n",
      " 0.53675482 0.53070372 0.53922008 0.5349619  0.50806813 0.53787539\n",
      " 0.58852532 0.60040341 0.59345585 0.59278351 0.59143882 0.58561183\n",
      " 0.59816226 0.58987001 0.58538772 0.58762887 0.57485433 0.56006275\n",
      " 0.51792918 0.47758853 0.50425818 0.46539265 0.4499087  0.43671483\n",
      " 0.42556918 0.41637605 0.40895534 0.40302858 0.39826509 0.39432782\n",
      " 0.39090431 0.38772437 0.38457009 0.38127813 0.3777391  0.37389287\n",
      " 0.36972219 0.365244   0.36050072 0.3555516 ]\n",
      "19 day output [[0.35046393]]\n",
      "20 day input [0.73935455 0.74831914 0.78507396 0.75974899 0.77409234 0.73688929\n",
      " 0.70909906 0.69722098 0.71470193 0.72545944 0.73823398 0.73038996\n",
      " 0.72299417 0.74719857 0.72523532 0.7994173  0.78283281 0.75571493\n",
      " 0.73352757 0.77364411 0.77140296 0.7492156  0.72859704 0.70035858\n",
      " 0.63021067 0.65105334 0.60959211 0.58471537 0.609368   0.63043478\n",
      " 0.64388167 0.6017481  0.61160914 0.62572837 0.62550426 0.64657104\n",
      " 0.59614523 0.59524877 0.59166293 0.61340206 0.6048857  0.59928283\n",
      " 0.60354101 0.58673241 0.5912147  0.60466159 0.61272972 0.62909009\n",
      " 0.63872703 0.61810847 0.59524877 0.57530255 0.60242044 0.58583595\n",
      " 0.5912147  0.59771403 0.59009413 0.60085164 0.5425818  0.53675482\n",
      " 0.53070372 0.53922008 0.5349619  0.50806813 0.53787539 0.58852532\n",
      " 0.60040341 0.59345585 0.59278351 0.59143882 0.58561183 0.59816226\n",
      " 0.58987001 0.58538772 0.58762887 0.57485433 0.56006275 0.51792918\n",
      " 0.47758853 0.50425818 0.46539265 0.4499087  0.43671483 0.42556918\n",
      " 0.41637605 0.40895534 0.40302858 0.39826509 0.39432782 0.39090431\n",
      " 0.38772437 0.38457009 0.38127813 0.3777391  0.37389287 0.36972219\n",
      " 0.365244   0.36050072 0.3555516  0.35046393]\n",
      "20 day output [[0.34530687]]\n",
      "21 day input [0.74831914 0.78507396 0.75974899 0.77409234 0.73688929 0.70909906\n",
      " 0.69722098 0.71470193 0.72545944 0.73823398 0.73038996 0.72299417\n",
      " 0.74719857 0.72523532 0.7994173  0.78283281 0.75571493 0.73352757\n",
      " 0.77364411 0.77140296 0.7492156  0.72859704 0.70035858 0.63021067\n",
      " 0.65105334 0.60959211 0.58471537 0.609368   0.63043478 0.64388167\n",
      " 0.6017481  0.61160914 0.62572837 0.62550426 0.64657104 0.59614523\n",
      " 0.59524877 0.59166293 0.61340206 0.6048857  0.59928283 0.60354101\n",
      " 0.58673241 0.5912147  0.60466159 0.61272972 0.62909009 0.63872703\n",
      " 0.61810847 0.59524877 0.57530255 0.60242044 0.58583595 0.5912147\n",
      " 0.59771403 0.59009413 0.60085164 0.5425818  0.53675482 0.53070372\n",
      " 0.53922008 0.5349619  0.50806813 0.53787539 0.58852532 0.60040341\n",
      " 0.59345585 0.59278351 0.59143882 0.58561183 0.59816226 0.58987001\n",
      " 0.58538772 0.58762887 0.57485433 0.56006275 0.51792918 0.47758853\n",
      " 0.50425818 0.46539265 0.4499087  0.43671483 0.42556918 0.41637605\n",
      " 0.40895534 0.40302858 0.39826509 0.39432782 0.39090431 0.38772437\n",
      " 0.38457009 0.38127813 0.3777391  0.37389287 0.36972219 0.365244\n",
      " 0.36050072 0.3555516  0.35046393 0.34530687]\n",
      "21 day output [[0.3401455]]\n",
      "22 day input [0.78507396 0.75974899 0.77409234 0.73688929 0.70909906 0.69722098\n",
      " 0.71470193 0.72545944 0.73823398 0.73038996 0.72299417 0.74719857\n",
      " 0.72523532 0.7994173  0.78283281 0.75571493 0.73352757 0.77364411\n",
      " 0.77140296 0.7492156  0.72859704 0.70035858 0.63021067 0.65105334\n",
      " 0.60959211 0.58471537 0.609368   0.63043478 0.64388167 0.6017481\n",
      " 0.61160914 0.62572837 0.62550426 0.64657104 0.59614523 0.59524877\n",
      " 0.59166293 0.61340206 0.6048857  0.59928283 0.60354101 0.58673241\n",
      " 0.5912147  0.60466159 0.61272972 0.62909009 0.63872703 0.61810847\n",
      " 0.59524877 0.57530255 0.60242044 0.58583595 0.5912147  0.59771403\n",
      " 0.59009413 0.60085164 0.5425818  0.53675482 0.53070372 0.53922008\n",
      " 0.5349619  0.50806813 0.53787539 0.58852532 0.60040341 0.59345585\n",
      " 0.59278351 0.59143882 0.58561183 0.59816226 0.58987001 0.58538772\n",
      " 0.58762887 0.57485433 0.56006275 0.51792918 0.47758853 0.50425818\n",
      " 0.46539265 0.4499087  0.43671483 0.42556918 0.41637605 0.40895534\n",
      " 0.40302858 0.39826509 0.39432782 0.39090431 0.38772437 0.38457009\n",
      " 0.38127813 0.3777391  0.37389287 0.36972219 0.365244   0.36050072\n",
      " 0.3555516  0.35046393 0.34530687 0.3401455 ]\n",
      "22 day output [[0.3350366]]\n",
      "23 day input [0.75974899 0.77409234 0.73688929 0.70909906 0.69722098 0.71470193\n",
      " 0.72545944 0.73823398 0.73038996 0.72299417 0.74719857 0.72523532\n",
      " 0.7994173  0.78283281 0.75571493 0.73352757 0.77364411 0.77140296\n",
      " 0.7492156  0.72859704 0.70035858 0.63021067 0.65105334 0.60959211\n",
      " 0.58471537 0.609368   0.63043478 0.64388167 0.6017481  0.61160914\n",
      " 0.62572837 0.62550426 0.64657104 0.59614523 0.59524877 0.59166293\n",
      " 0.61340206 0.6048857  0.59928283 0.60354101 0.58673241 0.5912147\n",
      " 0.60466159 0.61272972 0.62909009 0.63872703 0.61810847 0.59524877\n",
      " 0.57530255 0.60242044 0.58583595 0.5912147  0.59771403 0.59009413\n",
      " 0.60085164 0.5425818  0.53675482 0.53070372 0.53922008 0.5349619\n",
      " 0.50806813 0.53787539 0.58852532 0.60040341 0.59345585 0.59278351\n",
      " 0.59143882 0.58561183 0.59816226 0.58987001 0.58538772 0.58762887\n",
      " 0.57485433 0.56006275 0.51792918 0.47758853 0.50425818 0.46539265\n",
      " 0.4499087  0.43671483 0.42556918 0.41637605 0.40895534 0.40302858\n",
      " 0.39826509 0.39432782 0.39090431 0.38772437 0.38457009 0.38127813\n",
      " 0.3777391  0.37389287 0.36972219 0.365244   0.36050072 0.3555516\n",
      " 0.35046393 0.34530687 0.3401455  0.33503661]\n",
      "23 day output [[0.33002684]]\n",
      "24 day input [0.77409234 0.73688929 0.70909906 0.69722098 0.71470193 0.72545944\n",
      " 0.73823398 0.73038996 0.72299417 0.74719857 0.72523532 0.7994173\n",
      " 0.78283281 0.75571493 0.73352757 0.77364411 0.77140296 0.7492156\n",
      " 0.72859704 0.70035858 0.63021067 0.65105334 0.60959211 0.58471537\n",
      " 0.609368   0.63043478 0.64388167 0.6017481  0.61160914 0.62572837\n",
      " 0.62550426 0.64657104 0.59614523 0.59524877 0.59166293 0.61340206\n",
      " 0.6048857  0.59928283 0.60354101 0.58673241 0.5912147  0.60466159\n",
      " 0.61272972 0.62909009 0.63872703 0.61810847 0.59524877 0.57530255\n",
      " 0.60242044 0.58583595 0.5912147  0.59771403 0.59009413 0.60085164\n",
      " 0.5425818  0.53675482 0.53070372 0.53922008 0.5349619  0.50806813\n",
      " 0.53787539 0.58852532 0.60040341 0.59345585 0.59278351 0.59143882\n",
      " 0.58561183 0.59816226 0.58987001 0.58538772 0.58762887 0.57485433\n",
      " 0.56006275 0.51792918 0.47758853 0.50425818 0.46539265 0.4499087\n",
      " 0.43671483 0.42556918 0.41637605 0.40895534 0.40302858 0.39826509\n",
      " 0.39432782 0.39090431 0.38772437 0.38457009 0.38127813 0.3777391\n",
      " 0.37389287 0.36972219 0.365244   0.36050072 0.3555516  0.35046393\n",
      " 0.34530687 0.3401455  0.33503661 0.33002684]\n",
      "24 day output [[0.3251513]]\n",
      "25 day input [0.73688929 0.70909906 0.69722098 0.71470193 0.72545944 0.73823398\n",
      " 0.73038996 0.72299417 0.74719857 0.72523532 0.7994173  0.78283281\n",
      " 0.75571493 0.73352757 0.77364411 0.77140296 0.7492156  0.72859704\n",
      " 0.70035858 0.63021067 0.65105334 0.60959211 0.58471537 0.609368\n",
      " 0.63043478 0.64388167 0.6017481  0.61160914 0.62572837 0.62550426\n",
      " 0.64657104 0.59614523 0.59524877 0.59166293 0.61340206 0.6048857\n",
      " 0.59928283 0.60354101 0.58673241 0.5912147  0.60466159 0.61272972\n",
      " 0.62909009 0.63872703 0.61810847 0.59524877 0.57530255 0.60242044\n",
      " 0.58583595 0.5912147  0.59771403 0.59009413 0.60085164 0.5425818\n",
      " 0.53675482 0.53070372 0.53922008 0.5349619  0.50806813 0.53787539\n",
      " 0.58852532 0.60040341 0.59345585 0.59278351 0.59143882 0.58561183\n",
      " 0.59816226 0.58987001 0.58538772 0.58762887 0.57485433 0.56006275\n",
      " 0.51792918 0.47758853 0.50425818 0.46539265 0.4499087  0.43671483\n",
      " 0.42556918 0.41637605 0.40895534 0.40302858 0.39826509 0.39432782\n",
      " 0.39090431 0.38772437 0.38457009 0.38127813 0.3777391  0.37389287\n",
      " 0.36972219 0.365244   0.36050072 0.3555516  0.35046393 0.34530687\n",
      " 0.3401455  0.33503661 0.33002684 0.32515129]\n",
      "25 day output [[0.32043335]]\n",
      "26 day input [0.70909906 0.69722098 0.71470193 0.72545944 0.73823398 0.73038996\n",
      " 0.72299417 0.74719857 0.72523532 0.7994173  0.78283281 0.75571493\n",
      " 0.73352757 0.77364411 0.77140296 0.7492156  0.72859704 0.70035858\n",
      " 0.63021067 0.65105334 0.60959211 0.58471537 0.609368   0.63043478\n",
      " 0.64388167 0.6017481  0.61160914 0.62572837 0.62550426 0.64657104\n",
      " 0.59614523 0.59524877 0.59166293 0.61340206 0.6048857  0.59928283\n",
      " 0.60354101 0.58673241 0.5912147  0.60466159 0.61272972 0.62909009\n",
      " 0.63872703 0.61810847 0.59524877 0.57530255 0.60242044 0.58583595\n",
      " 0.5912147  0.59771403 0.59009413 0.60085164 0.5425818  0.53675482\n",
      " 0.53070372 0.53922008 0.5349619  0.50806813 0.53787539 0.58852532\n",
      " 0.60040341 0.59345585 0.59278351 0.59143882 0.58561183 0.59816226\n",
      " 0.58987001 0.58538772 0.58762887 0.57485433 0.56006275 0.51792918\n",
      " 0.47758853 0.50425818 0.46539265 0.4499087  0.43671483 0.42556918\n",
      " 0.41637605 0.40895534 0.40302858 0.39826509 0.39432782 0.39090431\n",
      " 0.38772437 0.38457009 0.38127813 0.3777391  0.37389287 0.36972219\n",
      " 0.365244   0.36050072 0.3555516  0.35046393 0.34530687 0.3401455\n",
      " 0.33503661 0.33002684 0.32515129 0.32043335]\n",
      "26 day output [[0.31588584]]\n",
      "27 day input [0.69722098 0.71470193 0.72545944 0.73823398 0.73038996 0.72299417\n",
      " 0.74719857 0.72523532 0.7994173  0.78283281 0.75571493 0.73352757\n",
      " 0.77364411 0.77140296 0.7492156  0.72859704 0.70035858 0.63021067\n",
      " 0.65105334 0.60959211 0.58471537 0.609368   0.63043478 0.64388167\n",
      " 0.6017481  0.61160914 0.62572837 0.62550426 0.64657104 0.59614523\n",
      " 0.59524877 0.59166293 0.61340206 0.6048857  0.59928283 0.60354101\n",
      " 0.58673241 0.5912147  0.60466159 0.61272972 0.62909009 0.63872703\n",
      " 0.61810847 0.59524877 0.57530255 0.60242044 0.58583595 0.5912147\n",
      " 0.59771403 0.59009413 0.60085164 0.5425818  0.53675482 0.53070372\n",
      " 0.53922008 0.5349619  0.50806813 0.53787539 0.58852532 0.60040341\n",
      " 0.59345585 0.59278351 0.59143882 0.58561183 0.59816226 0.58987001\n",
      " 0.58538772 0.58762887 0.57485433 0.56006275 0.51792918 0.47758853\n",
      " 0.50425818 0.46539265 0.4499087  0.43671483 0.42556918 0.41637605\n",
      " 0.40895534 0.40302858 0.39826509 0.39432782 0.39090431 0.38772437\n",
      " 0.38457009 0.38127813 0.3777391  0.37389287 0.36972219 0.365244\n",
      " 0.36050072 0.3555516  0.35046393 0.34530687 0.3401455  0.33503661\n",
      " 0.33002684 0.32515129 0.32043335 0.31588584]\n",
      "27 day output [[0.31151244]]\n",
      "28 day input [0.71470193 0.72545944 0.73823398 0.73038996 0.72299417 0.74719857\n",
      " 0.72523532 0.7994173  0.78283281 0.75571493 0.73352757 0.77364411\n",
      " 0.77140296 0.7492156  0.72859704 0.70035858 0.63021067 0.65105334\n",
      " 0.60959211 0.58471537 0.609368   0.63043478 0.64388167 0.6017481\n",
      " 0.61160914 0.62572837 0.62550426 0.64657104 0.59614523 0.59524877\n",
      " 0.59166293 0.61340206 0.6048857  0.59928283 0.60354101 0.58673241\n",
      " 0.5912147  0.60466159 0.61272972 0.62909009 0.63872703 0.61810847\n",
      " 0.59524877 0.57530255 0.60242044 0.58583595 0.5912147  0.59771403\n",
      " 0.59009413 0.60085164 0.5425818  0.53675482 0.53070372 0.53922008\n",
      " 0.5349619  0.50806813 0.53787539 0.58852532 0.60040341 0.59345585\n",
      " 0.59278351 0.59143882 0.58561183 0.59816226 0.58987001 0.58538772\n",
      " 0.58762887 0.57485433 0.56006275 0.51792918 0.47758853 0.50425818\n",
      " 0.46539265 0.4499087  0.43671483 0.42556918 0.41637605 0.40895534\n",
      " 0.40302858 0.39826509 0.39432782 0.39090431 0.38772437 0.38457009\n",
      " 0.38127813 0.3777391  0.37389287 0.36972219 0.365244   0.36050072\n",
      " 0.3555516  0.35046393 0.34530687 0.3401455  0.33503661 0.33002684\n",
      " 0.32515129 0.32043335 0.31588584 0.31151244]\n",
      "28 day output [[0.30730903]]\n",
      "29 day input [0.72545944 0.73823398 0.73038996 0.72299417 0.74719857 0.72523532\n",
      " 0.7994173  0.78283281 0.75571493 0.73352757 0.77364411 0.77140296\n",
      " 0.7492156  0.72859704 0.70035858 0.63021067 0.65105334 0.60959211\n",
      " 0.58471537 0.609368   0.63043478 0.64388167 0.6017481  0.61160914\n",
      " 0.62572837 0.62550426 0.64657104 0.59614523 0.59524877 0.59166293\n",
      " 0.61340206 0.6048857  0.59928283 0.60354101 0.58673241 0.5912147\n",
      " 0.60466159 0.61272972 0.62909009 0.63872703 0.61810847 0.59524877\n",
      " 0.57530255 0.60242044 0.58583595 0.5912147  0.59771403 0.59009413\n",
      " 0.60085164 0.5425818  0.53675482 0.53070372 0.53922008 0.5349619\n",
      " 0.50806813 0.53787539 0.58852532 0.60040341 0.59345585 0.59278351\n",
      " 0.59143882 0.58561183 0.59816226 0.58987001 0.58538772 0.58762887\n",
      " 0.57485433 0.56006275 0.51792918 0.47758853 0.50425818 0.46539265\n",
      " 0.4499087  0.43671483 0.42556918 0.41637605 0.40895534 0.40302858\n",
      " 0.39826509 0.39432782 0.39090431 0.38772437 0.38457009 0.38127813\n",
      " 0.3777391  0.37389287 0.36972219 0.365244   0.36050072 0.3555516\n",
      " 0.35046393 0.34530687 0.3401455  0.33503661 0.33002684 0.32515129\n",
      " 0.32043335 0.31588584 0.31151244 0.30730903]\n",
      "29 day output [[0.30326664]]\n",
      "[[0.4653926491737366], [0.44990870356559753], [0.4367148280143738], [0.42556917667388916], [0.4163760542869568], [0.40895533561706543], [0.40302857756614685], [0.3982650935649872], [0.3943278193473816], [0.3909043073654175], [0.387724369764328], [0.38457009196281433], [0.3812781274318695], [0.3777391016483307], [0.3738928735256195], [0.3697221875190735], [0.3652440011501312], [0.3605007231235504], [0.3555516004562378], [0.3504639267921448], [0.3453068733215332], [0.3401454985141754], [0.33503660559654236], [0.3300268352031708], [0.3251512944698334], [0.3204333484172821], [0.31588584184646606], [0.31151244044303894], [0.30730903148651123], [0.30326664447784424]]\n"
     ]
    }
   ],
   "source": [
    "lst_output=[] #predicted 30 days output\n",
    "n_steps=100\n",
    "i=0\n",
    "while (i<30): #for 30 days- change according to the number of days you want\n",
    "\n",
    "    if (len(temp_input)>100):\n",
    "        #print(temp_input)\n",
    "        pred_input=np.array(temp_input[1:]) #for last 100 data\n",
    "        print(\"{} day input {}\".format(i,pred_input))\n",
    "        pred_input = pred_input.reshape(1,-1)\n",
    "        pred_input= pred_input.reshape((1,n_steps,1))\n",
    "        #print(x_input)\n",
    "        yhat = model.predict(pred_input,verbose=0)\n",
    "        print(\"{} day output {}\".format(i,yhat))\n",
    "        temp_input.extend(yhat[0].tolist())\n",
    "        temp_input=temp_input[1:]\n",
    "        #print(temp_input)\n",
    "        lst_output.extend(yhat.tolist())\n",
    "        i=i+1\n",
    "    else:\n",
    "        pred_input = pred_input.reshape((1,n_steps,1))\n",
    "        yhat = model.predict(pred_input,verbose=0)\n",
    "        print(yhat[0])\n",
    "        temp_input.extend(yhat[0].tolist())\n",
    "        print(len(temp_input))\n",
    "        lst_output.extend(yhat.tolist())\n",
    "        i=i+1\n",
    "\n",
    "print(lst_output)"
   ]
  },
  {
   "cell_type": "code",
   "execution_count": 65,
   "id": "8f7d5276-eca2-49ed-a601-c5dff9869d08",
   "metadata": {},
   "outputs": [],
   "source": [
    "##Ploting last 130 days closing price\n",
    "day_new= np.arange(1,101)\n",
    "day_pred = np.arange(101,131)"
   ]
  },
  {
   "cell_type": "code",
   "execution_count": 66,
   "id": "bf26a587-cba3-4ac4-b770-9afaed137686",
   "metadata": {},
   "outputs": [
    {
     "data": {
      "text/plain": [
       "1235"
      ]
     },
     "execution_count": 66,
     "metadata": {},
     "output_type": "execute_result"
    }
   ],
   "source": [
    "len(close_srt)"
   ]
  },
  {
   "cell_type": "code",
   "execution_count": 68,
   "id": "a4abbbc3-bb8b-46c3-8876-468ddfcda9ad",
   "metadata": {},
   "outputs": [
    {
     "data": {
      "text/plain": [
       "[<matplotlib.lines.Line2D at 0x1ecaf696990>]"
      ]
     },
     "execution_count": 68,
     "metadata": {},
     "output_type": "execute_result"
    },
    {
     "data": {
      "image/png": "[encoded data removed]",
      "text/plain": [
       "<Figure size 1000x700 with 1 Axes>"
      ]
     },
     "metadata": {},
     "output_type": "display_data"
    }
   ],
   "source": [
    "plt.figure(figsize=(10,7))\n",
    "plt.plot(day_new,scaler.inverse_transform(close_srt[1135:]))\n",
    "plt.plot(day_pred,scaler.inverse_transform(lst_output))"
   ]
  },
  {
   "cell_type": "code",
   "execution_count": 69,
   "id": "984f9edd-126a-4eb7-bf96-d9ba14108a21",
   "metadata": {},
   "outputs": [],
   "source": [
    "##Appending in a list is done to make continuous graph\n",
    "df3 = close_srt.tolist()\n",
    "#adding specified list of predicted 30 days output to the end of last 100 days output\n",
    "df3.extend(lst_output)"
   ]
  },
  {
   "cell_type": "code",
   "execution_count": 70,
   "id": "7fc839bd-539f-4844-b2cf-b6fb939ec801",
   "metadata": {},
   "outputs": [
    {
     "name": "stdout",
     "output_type": "stream",
     "text": [
      "1265\n"
     ]
    }
   ],
   "source": [
    "print(len(df3))"
   ]
  },
  {
   "cell_type": "code",
   "execution_count": 71,
   "id": "f40613f6-b743-4d07-bc9b-1452b200de62",
   "metadata": {},
   "outputs": [
    {
     "data": {
      "text/plain": [
       "[<matplotlib.lines.Line2D at 0x1ecbc4056d0>]"
      ]
     },
     "execution_count": 71,
     "metadata": {},
     "output_type": "execute_result"
    },
    {
     "data": {
      "image/png": "[encoded data removed]",
      "text/plain": [
       "<Figure size 1000x700 with 1 Axes>"
      ]
     },
     "metadata": {},
     "output_type": "display_data"
    }
   ],
   "source": [
    "plt.figure(figsize=(10,7))\n",
    "plt.plot(df3[1135:]) #latest 100 days output"
   ]
  },
  {
   "cell_type": "code",
   "execution_count": 72,
   "id": "2c0cd442-0a0c-4800-bc56-9f7892a97ef8",
   "metadata": {},
   "outputs": [],
   "source": [
    "##Plotting the graph with predicted 30 days output\n",
    "df3 = scaler.inverse_transform(df3).tolist() #undoing scaling of df3"
   ]
  },
  {
   "cell_type": "code",
   "execution_count": 73,
   "id": "a0da4bbc-6867-4ed1-93b5-44e94d8ee455",
   "metadata": {},
   "outputs": [
    {
     "data": {
      "text/plain": [
       "[<matplotlib.lines.Line2D at 0x1ecbd0a0ed0>]"
      ]
     },
     "execution_count": 73,
     "metadata": {},
     "output_type": "execute_result"
    },
    {
     "data": {
      "image/png": "[encoded data removed]",
      "text/plain": [
       "<Figure size 1000x700 with 1 Axes>"
      ]
     },
     "metadata": {},
     "output_type": "display_data"
    }
   ],
   "source": [
    "plt.figure(figsize=(10,7))\n",
    "plt.plot(df3)"
   ]
  },
  {
   "cell_type": "code",
   "execution_count": null,
   "id": "428bd24b-162e-411d-b4a0-766276670589",
   "metadata": {},
   "outputs": [],
   "source": []
  }
 ],
 "metadata": {
  "kernelspec": {
   "display_name": "Python 3 (ipykernel)",
   "language": "python",
   "name": "python3"
  },
  "language_info": {
   "codemirror_mode": {
    "name": "ipython",
    "version": 3
   },
   "file_extension": ".py",
   "mimetype": "text/x-python",
   "name": "python",
   "nbconvert_exporter": "python",
   "pygments_lexer": "ipython3",
   "version": "3.11.1"
  }
 },
 "nbformat": 4,
 "nbformat_minor": 5
}
